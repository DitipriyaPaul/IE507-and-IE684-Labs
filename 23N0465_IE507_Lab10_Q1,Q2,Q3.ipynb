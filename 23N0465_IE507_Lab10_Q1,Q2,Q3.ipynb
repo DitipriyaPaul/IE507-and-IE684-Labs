{
  "nbformat": 4,
  "nbformat_minor": 0,
  "metadata": {
    "colab": {
      "provenance": []
    },
    "kernelspec": {
      "name": "python3",
      "display_name": "Python 3"
    },
    "language_info": {
      "name": "python"
    }
  },
  "cells": [
    {
      "cell_type": "code",
      "execution_count": 1,
      "metadata": {
        "id": "UyfS8Imhc-57"
      },
      "outputs": [],
      "source": [
        "# install pyomo library to collab enivronment\n",
        "!pip -q install pyomo\n",
        "# import pyomo and numpy library to collab session\n",
        "from pyomo.environ import *\n",
        "import numpy as np"
      ]
    },
    {
      "cell_type": "markdown",
      "source": [
        "Ques:1"
      ],
      "metadata": {
        "id": "Cgu55zVpezdo"
      }
    },
    {
      "cell_type": "code",
      "source": [
        "M = 12\n",
        "N = 11\n",
        "\n",
        "b = np.array([3,2,6,5,5,4,6,8,8,5,4])\n",
        "col_indicies = np.arange(N)\n",
        "\n",
        "\n",
        "# creating an empty pyomo model\n",
        "pipeModel = ConcreteModel()\n",
        "pipeModel.x = Var(col_indicies, domain= NonNegativeIntegers)\n",
        "\n",
        "# objective defined as sum of all delta variable where we want to minimize number of standard pipes used\n",
        "pipeModel.Objective = Objective(expr = sum(b[j]*pipeModel.x[j] for j in col_indicies), sense= maximize)\n",
        "\n",
        "# constraints are defined as list of constraints\n",
        "pipeModel.constraints = ConstraintList()\n",
        "[pipeModel.constraints.add(expr = sum(b[i]*pipeModel.x[i] for i in col_indicies) >=30)]\n",
        "[pipeModel.constraints.add(expr = sum(pipeModel.x[i] for i in col_indicies) >=5)]\n",
        "[pipeModel.constraints.add(expr = sum(pipeModel.x[i] for i in col_indicies) <=9)]\n",
        "[pipeModel.constraints.add(expr = sum(pipeModel.x[i] for i in [2,7]) <=1)]\n",
        "[pipeModel.constraints.add(expr = sum(pipeModel.x[i] for i in [4,9]) <=1)]\n",
        "[pipeModel.constraints.add(expr = sum(pipeModel.x[i] for i in [2,8]) <=1)]\n",
        "[pipeModel.constraints.add(expr = sum(pipeModel.x[i] for i in [3,6,9]) <=2)]\n",
        "[pipeModel.constraints.add(expr = sum(pipeModel.x[i] for i in [5,6]) <=1)]\n",
        "[pipeModel.constraints.add(expr = sum(pipeModel.x[i] for i in [0,1,2]) <=2)]\n",
        "[pipeModel.constraints.add(expr = sum(pipeModel.x[i] for i in [0,1,2]) >=0)]\n",
        "[pipeModel.constraints.add(expr = pipeModel.x[10] <= pipeModel.x[0])]\n",
        "!apt-get install -y -qq coinor-cbc\n",
        "# using solverfactory to solve above constructed pyomo model\n",
        "optCBC = SolverFactory('cbc')\n",
        "\n",
        "# solving your pipeModel using cbc solver\n",
        "results = optCBC.solve(pipeModel)"
      ],
      "metadata": {
        "id": "Ri8KqKpXdE_i"
      },
      "execution_count": 46,
      "outputs": []
    },
    {
      "cell_type": "code",
      "source": [
        "pipeModel.pprint()"
      ],
      "metadata": {
        "colab": {
          "base_uri": "https://localhost:8080/"
        },
        "id": "p3_tICIbOlNP",
        "outputId": "1857faca-58ca-436e-b7ce-7a95a0c2ec64"
      },
      "execution_count": 47,
      "outputs": [
        {
          "output_type": "stream",
          "name": "stdout",
          "text": [
            "2 Set Declarations\n",
            "    constraints_index : Size=1, Index=None, Ordered=Insertion\n",
            "        Key  : Dimen : Domain : Size : Members\n",
            "        None :     1 :    Any :   11 : {1, 2, 3, 4, 5, 6, 7, 8, 9, 10, 11}\n",
            "    x_index : Size=1, Index=None, Ordered=False\n",
            "        Key  : Dimen : Domain : Size : Members\n",
            "        None :     1 :    Any :   11 : {0, 1, 2, 3, 4, 5, 6, 7, 8, 9, 10}\n",
            "\n",
            "1 Var Declarations\n",
            "    x : Size=11, Index=x_index\n",
            "        Key : Lower : Value : Upper : Fixed : Stale : Domain\n",
            "          0 :     0 :   2.0 :  None : False : False : NonNegativeIntegers\n",
            "          1 :     0 :   0.0 :  None : False : False : NonNegativeIntegers\n",
            "          2 :     0 :   0.0 :  None : False : False : NonNegativeIntegers\n",
            "          3 :     0 :   1.0 :  None : False : False : NonNegativeIntegers\n",
            "          4 :     0 :   1.0 :  None : False : False : NonNegativeIntegers\n",
            "          5 :     0 :   0.0 :  None : False : False : NonNegativeIntegers\n",
            "          6 :     0 :   1.0 :  None : False : False : NonNegativeIntegers\n",
            "          7 :     0 :   1.0 :  None : False : False : NonNegativeIntegers\n",
            "          8 :     0 :   1.0 :  None : False : False : NonNegativeIntegers\n",
            "          9 :     0 :   0.0 :  None : False : False : NonNegativeIntegers\n",
            "         10 :     0 :   2.0 :  None : False : False : NonNegativeIntegers\n",
            "\n",
            "1 Objective Declarations\n",
            "    Objective : Size=1, Index=None, Active=True\n",
            "        Key  : Active : Sense    : Expression\n",
            "        None :   True : maximize : 3*x[0] + 2*x[1] + 6*x[2] + 5*x[3] + 5*x[4] + 4*x[5] + 6*x[6] + 8*x[7] + 8*x[8] + 5*x[9] + 4*x[10]\n",
            "\n",
            "1 Constraint Declarations\n",
            "    constraints : Size=11, Index=constraints_index, Active=True\n",
            "        Key : Lower : Body                                                                                              : Upper : Active\n",
            "          1 :  30.0 : 3*x[0] + 2*x[1] + 6*x[2] + 5*x[3] + 5*x[4] + 4*x[5] + 6*x[6] + 8*x[7] + 8*x[8] + 5*x[9] + 4*x[10] :  +Inf :   True\n",
            "          2 :   5.0 :                       x[0] + x[1] + x[2] + x[3] + x[4] + x[5] + x[6] + x[7] + x[8] + x[9] + x[10] :  +Inf :   True\n",
            "          3 :  -Inf :                       x[0] + x[1] + x[2] + x[3] + x[4] + x[5] + x[6] + x[7] + x[8] + x[9] + x[10] :   9.0 :   True\n",
            "          4 :  -Inf :                                                                                       x[2] + x[7] :   1.0 :   True\n",
            "          5 :  -Inf :                                                                                       x[4] + x[9] :   1.0 :   True\n",
            "          6 :  -Inf :                                                                                       x[2] + x[8] :   1.0 :   True\n",
            "          7 :  -Inf :                                                                                x[3] + x[6] + x[9] :   2.0 :   True\n",
            "          8 :  -Inf :                                                                                       x[5] + x[6] :   1.0 :   True\n",
            "          9 :  -Inf :                                                                                x[0] + x[1] + x[2] :   2.0 :   True\n",
            "         10 :   0.0 :                                                                                x[0] + x[1] + x[2] :  +Inf :   True\n",
            "         11 :  -Inf :                                                                                      x[10] - x[0] :   0.0 :   True\n",
            "\n",
            "5 Declarations: x_index x Objective constraints_index constraints\n"
          ]
        }
      ]
    },
    {
      "cell_type": "code",
      "source": [
        "print(results)"
      ],
      "metadata": {
        "colab": {
          "base_uri": "https://localhost:8080/"
        },
        "id": "mWLz8r0EdkEg",
        "outputId": "33dc0935-38ed-4078-ec70-1dfd2fafff09"
      },
      "execution_count": 48,
      "outputs": [
        {
          "output_type": "stream",
          "name": "stdout",
          "text": [
            "\n",
            "Problem: \n",
            "- Name: unknown\n",
            "  Lower bound: 46.0\n",
            "  Upper bound: 46.0\n",
            "  Number of objectives: 1\n",
            "  Number of constraints: 10\n",
            "  Number of variables: 11\n",
            "  Number of binary variables: 0\n",
            "  Number of integer variables: 11\n",
            "  Number of nonzeros: 11\n",
            "  Sense: maximize\n",
            "Solver: \n",
            "- Status: ok\n",
            "  User time: -1.0\n",
            "  System time: 0.01\n",
            "  Wallclock time: 0.01\n",
            "  Termination condition: optimal\n",
            "  Termination message: Model was solved to optimality (subject to tolerances), and an optimal solution is available.\n",
            "  Statistics: \n",
            "    Branch and bound: \n",
            "      Number of bounded subproblems: 0\n",
            "      Number of created subproblems: 0\n",
            "    Black box: \n",
            "      Number of iterations: 0\n",
            "  Error rc: 0\n",
            "  Time: 0.03959798812866211\n",
            "Solution: \n",
            "- number of solutions: 0\n",
            "  number of solutions displayed: 0\n",
            "\n"
          ]
        }
      ]
    },
    {
      "cell_type": "code",
      "source": [
        "pipeModel.Objective()"
      ],
      "metadata": {
        "colab": {
          "base_uri": "https://localhost:8080/"
        },
        "id": "sI_-2dhadqY2",
        "outputId": "c80d2483-3098-4a18-bcbb-60461a9fe62a"
      },
      "execution_count": 5,
      "outputs": [
        {
          "output_type": "execute_result",
          "data": {
            "text/plain": [
              "41.0"
            ]
          },
          "metadata": {},
          "execution_count": 5
        }
      ]
    },
    {
      "cell_type": "code",
      "source": [
        "for i in range(N):\n",
        "  print(f'{pipeModel.x[i]} = {pipeModel.x[i].value}')"
      ],
      "metadata": {
        "colab": {
          "base_uri": "https://localhost:8080/"
        },
        "id": "FOUhK2Lsdqjr",
        "outputId": "ede599dc-4ea8-4924-f4ee-f4b100842921"
      },
      "execution_count": 6,
      "outputs": [
        {
          "output_type": "stream",
          "name": "stdout",
          "text": [
            "x[0] = 1.0\n",
            "x[1] = 1.0\n",
            "x[2] = 0.0\n",
            "x[3] = 1.0\n",
            "x[4] = 1.0\n",
            "x[5] = 0.0\n",
            "x[6] = 1.0\n",
            "x[7] = 1.0\n",
            "x[8] = 1.0\n",
            "x[9] = 0.0\n",
            "x[10] = 1.0\n"
          ]
        }
      ]
    },
    {
      "cell_type": "code",
      "source": [
        "#4\n",
        "M = 15\n",
        "N = 12\n",
        "\n",
        "b = np.array([3,2,6,5,5,4,6,8,8,5,4,9])\n",
        "col_indicies = np.arange(N)\n",
        "\n",
        "\n",
        "# creating an empty pyomo model\n",
        "pipeModel = ConcreteModel()\n",
        "pipeModel.x = Var(col_indicies, domain= Binary)\n",
        "\n",
        "# objective defined as sum of all delta variable where we want to minimize number of standard pipes used\n",
        "pipeModel.Objective = Objective(expr = sum(b[j]*pipeModel.x[j] for j in col_indicies), sense= maximize)\n",
        "\n",
        "# constraints are defined as list of constraints\n",
        "pipeModel.constraints = ConstraintList()\n",
        "[pipeModel.constraints.add(expr = sum(b[i]*pipeModel.x[i] for i in col_indicies) >=30)]\n",
        "[pipeModel.constraints.add(expr = sum(pipeModel.x[i] for i in col_indicies) >=5)]\n",
        "[pipeModel.constraints.add(expr = sum(pipeModel.x[i] for i in col_indicies) <=9)]\n",
        "[pipeModel.constraints.add(expr = sum(pipeModel.x[i] for i in [2,7]) <=1)]\n",
        "[pipeModel.constraints.add(expr = sum(pipeModel.x[i] for i in [4,9]) <=1)]\n",
        "[pipeModel.constraints.add(expr = sum(pipeModel.x[i] for i in [2,8]) <=1)]\n",
        "[pipeModel.constraints.add(expr = sum(pipeModel.x[i] for i in [3,6,9]) <=2)]\n",
        "[pipeModel.constraints.add(expr = sum(pipeModel.x[i] for i in [5,6]) <=1)]\n",
        "[pipeModel.constraints.add(expr = sum(pipeModel.x[i] for i in [0,1,2]) <=2)]\n",
        "[pipeModel.constraints.add(expr = sum(pipeModel.x[i] for i in [0,1,2]) >=0)]\n",
        "[pipeModel.constraints.add(expr = pipeModel.x[10] <= pipeModel.x[0])]\n",
        "[pipeModel.constraints.add(expr = sum(pipeModel.x[i] for i in [7,11] )<=1)]\n",
        "[pipeModel.constraints.add(expr = sum(pipeModel.x[i] for i in [8,11] )<=1)]\n",
        "[pipeModel.constraints.add(expr = sum(pipeModel.x[i] for i in [9,11] )<=1)]\n",
        "\n",
        "!apt-get install -y -qq coinor-cbc\n",
        "# using solverfactory to solve above constructed pyomo model\n",
        "optCBC = SolverFactory('cbc')\n",
        "\n",
        "# solving your pipeModel using cbc solver\n",
        "results = optCBC.solve(pipeModel)"
      ],
      "metadata": {
        "id": "QBXa6m_xdqoE"
      },
      "execution_count": 7,
      "outputs": []
    },
    {
      "cell_type": "code",
      "source": [
        "pipeModel.pprint()"
      ],
      "metadata": {
        "colab": {
          "base_uri": "https://localhost:8080/"
        },
        "id": "LIyjGlwCu_u4",
        "outputId": "2f5a4108-258b-429d-c93a-9ef241659e95"
      },
      "execution_count": 8,
      "outputs": [
        {
          "output_type": "stream",
          "name": "stdout",
          "text": [
            "2 Set Declarations\n",
            "    constraints_index : Size=1, Index=None, Ordered=Insertion\n",
            "        Key  : Dimen : Domain : Size : Members\n",
            "        None :     1 :    Any :   14 : {1, 2, 3, 4, 5, 6, 7, 8, 9, 10, 11, 12, 13, 14}\n",
            "    x_index : Size=1, Index=None, Ordered=False\n",
            "        Key  : Dimen : Domain : Size : Members\n",
            "        None :     1 :    Any :   12 : {0, 1, 2, 3, 4, 5, 6, 7, 8, 9, 10, 11}\n",
            "\n",
            "1 Var Declarations\n",
            "    x : Size=12, Index=x_index\n",
            "        Key : Lower : Value : Upper : Fixed : Stale : Domain\n",
            "          0 :     0 :   1.0 :     1 : False : False : Binary\n",
            "          1 :     0 :   1.0 :     1 : False : False : Binary\n",
            "          2 :     0 :   0.0 :     1 : False : False : Binary\n",
            "          3 :     0 :   1.0 :     1 : False : False : Binary\n",
            "          4 :     0 :   1.0 :     1 : False : False : Binary\n",
            "          5 :     0 :   0.0 :     1 : False : False : Binary\n",
            "          6 :     0 :   1.0 :     1 : False : False : Binary\n",
            "          7 :     0 :   1.0 :     1 : False : False : Binary\n",
            "          8 :     0 :   1.0 :     1 : False : False : Binary\n",
            "          9 :     0 :   0.0 :     1 : False : False : Binary\n",
            "         10 :     0 :   1.0 :     1 : False : False : Binary\n",
            "         11 :     0 :   0.0 :     1 : False : False : Binary\n",
            "\n",
            "1 Objective Declarations\n",
            "    Objective : Size=1, Index=None, Active=True\n",
            "        Key  : Active : Sense    : Expression\n",
            "        None :   True : maximize : 3*x[0] + 2*x[1] + 6*x[2] + 5*x[3] + 5*x[4] + 4*x[5] + 6*x[6] + 8*x[7] + 8*x[8] + 5*x[9] + 4*x[10] + 9*x[11]\n",
            "\n",
            "1 Constraint Declarations\n",
            "    constraints : Size=14, Index=constraints_index, Active=True\n",
            "        Key : Lower : Body                                                                                                        : Upper : Active\n",
            "          1 :  30.0 : 3*x[0] + 2*x[1] + 6*x[2] + 5*x[3] + 5*x[4] + 4*x[5] + 6*x[6] + 8*x[7] + 8*x[8] + 5*x[9] + 4*x[10] + 9*x[11] :  +Inf :   True\n",
            "          2 :   5.0 :                         x[0] + x[1] + x[2] + x[3] + x[4] + x[5] + x[6] + x[7] + x[8] + x[9] + x[10] + x[11] :  +Inf :   True\n",
            "          3 :  -Inf :                         x[0] + x[1] + x[2] + x[3] + x[4] + x[5] + x[6] + x[7] + x[8] + x[9] + x[10] + x[11] :   9.0 :   True\n",
            "          4 :  -Inf :                                                                                                 x[2] + x[7] :   1.0 :   True\n",
            "          5 :  -Inf :                                                                                                 x[4] + x[9] :   1.0 :   True\n",
            "          6 :  -Inf :                                                                                                 x[2] + x[8] :   1.0 :   True\n",
            "          7 :  -Inf :                                                                                          x[3] + x[6] + x[9] :   2.0 :   True\n",
            "          8 :  -Inf :                                                                                                 x[5] + x[6] :   1.0 :   True\n",
            "          9 :  -Inf :                                                                                          x[0] + x[1] + x[2] :   2.0 :   True\n",
            "         10 :   0.0 :                                                                                          x[0] + x[1] + x[2] :  +Inf :   True\n",
            "         11 :  -Inf :                                                                                                x[10] - x[0] :   0.0 :   True\n",
            "         12 :  -Inf :                                                                                                x[7] + x[11] :   1.0 :   True\n",
            "         13 :  -Inf :                                                                                                x[8] + x[11] :   1.0 :   True\n",
            "         14 :  -Inf :                                                                                                x[9] + x[11] :   1.0 :   True\n",
            "\n",
            "5 Declarations: x_index x Objective constraints_index constraints\n"
          ]
        }
      ]
    },
    {
      "cell_type": "code",
      "source": [
        "print(results)"
      ],
      "metadata": {
        "colab": {
          "base_uri": "https://localhost:8080/"
        },
        "id": "rg92RCzuiczT",
        "outputId": "56e99484-1628-401a-b01c-9d3f12b21f8f"
      },
      "execution_count": 9,
      "outputs": [
        {
          "output_type": "stream",
          "name": "stdout",
          "text": [
            "\n",
            "Problem: \n",
            "- Name: unknown\n",
            "  Lower bound: 41.0\n",
            "  Upper bound: 41.0\n",
            "  Number of objectives: 1\n",
            "  Number of constraints: 13\n",
            "  Number of variables: 12\n",
            "  Number of binary variables: 12\n",
            "  Number of integer variables: 12\n",
            "  Number of nonzeros: 12\n",
            "  Sense: maximize\n",
            "Solver: \n",
            "- Status: ok\n",
            "  User time: -1.0\n",
            "  System time: 0.0\n",
            "  Wallclock time: 0.0\n",
            "  Termination condition: optimal\n",
            "  Termination message: Model was solved to optimality (subject to tolerances), and an optimal solution is available.\n",
            "  Statistics: \n",
            "    Branch and bound: \n",
            "      Number of bounded subproblems: 0\n",
            "      Number of created subproblems: 0\n",
            "    Black box: \n",
            "      Number of iterations: 0\n",
            "  Error rc: 0\n",
            "  Time: 0.01675105094909668\n",
            "Solution: \n",
            "- number of solutions: 0\n",
            "  number of solutions displayed: 0\n",
            "\n"
          ]
        }
      ]
    },
    {
      "cell_type": "code",
      "source": [
        "pipeModel.Objective()"
      ],
      "metadata": {
        "colab": {
          "base_uri": "https://localhost:8080/"
        },
        "id": "qGKDaLMoidCl",
        "outputId": "e083e906-6c1d-44ac-c9e7-80ae03a7e9a2"
      },
      "execution_count": 10,
      "outputs": [
        {
          "output_type": "execute_result",
          "data": {
            "text/plain": [
              "41.0"
            ]
          },
          "metadata": {},
          "execution_count": 10
        }
      ]
    },
    {
      "cell_type": "code",
      "source": [
        "for i in range(N):\n",
        "  print(f'{pipeModel.x[i]} = {pipeModel.x[i].value}')"
      ],
      "metadata": {
        "colab": {
          "base_uri": "https://localhost:8080/"
        },
        "id": "cOD-0lg7idG2",
        "outputId": "23a45eae-c526-4f66-9272-32222b7aca60"
      },
      "execution_count": 11,
      "outputs": [
        {
          "output_type": "stream",
          "name": "stdout",
          "text": [
            "x[0] = 1.0\n",
            "x[1] = 1.0\n",
            "x[2] = 0.0\n",
            "x[3] = 1.0\n",
            "x[4] = 1.0\n",
            "x[5] = 0.0\n",
            "x[6] = 1.0\n",
            "x[7] = 1.0\n",
            "x[8] = 1.0\n",
            "x[9] = 0.0\n",
            "x[10] = 1.0\n",
            "x[11] = 0.0\n"
          ]
        }
      ]
    },
    {
      "cell_type": "markdown",
      "source": [
        "**Ques:2**\n"
      ],
      "metadata": {
        "id": "sAfkNl2bjMrR"
      }
    },
    {
      "cell_type": "code",
      "source": [
        "M = 2\n",
        "N = 5\n",
        "A =np.array([[6,7.5,9.5,10,12.5],[4.25,3.25,2.5,3.45,2.25]])\n",
        "b = np.array([12,14,10,15,14])\n",
        "c=np.array([59,73])\n",
        "col_indicies = np.arange(N)\n",
        "\n",
        "\n",
        "# creating an empty pyomo model\n",
        "pipeModel = ConcreteModel()\n",
        "pipeModel.x = Var(col_indicies, domain= NonNegativeIntegers)\n",
        "\n",
        "# objective defined as sum of all delta variable where we want to minimize number of standard pipes used\n",
        "pipeModel.Objective = Objective(expr = sum(b[j]*pipeModel.x[j] for j in col_indicies), sense= maximize)\n",
        "\n",
        "# constraints are defined as list of constraints\n",
        "pipeModel.constraints = ConstraintList()\n",
        "\n",
        "[pipeModel.constraints.add(expr = sum(A[i][j]*pipeModel.x[j] for j in range (N)) <=c[i]) for i in range (M)]\n",
        "\n",
        "\n",
        "!apt-get install -y -qq coinor-cbc\n",
        "# using solverfactory to solve above constructed pyomo model\n",
        "optCBC = SolverFactory('cbc')\n",
        "\n",
        "# solving your pipeModel using cbc solver\n",
        "results = optCBC.solve(pipeModel)\n"
      ],
      "metadata": {
        "id": "7y1IDIj2jKqQ"
      },
      "execution_count": 12,
      "outputs": []
    },
    {
      "cell_type": "code",
      "source": [
        "pipeModel.pprint()"
      ],
      "metadata": {
        "colab": {
          "base_uri": "https://localhost:8080/"
        },
        "id": "HdWLMUQ6n7hX",
        "outputId": "7e04a5b3-3e08-4803-ce0a-16c8b6255cd8"
      },
      "execution_count": 13,
      "outputs": [
        {
          "output_type": "stream",
          "name": "stdout",
          "text": [
            "2 Set Declarations\n",
            "    constraints_index : Size=1, Index=None, Ordered=Insertion\n",
            "        Key  : Dimen : Domain : Size : Members\n",
            "        None :     1 :    Any :    2 : {1, 2}\n",
            "    x_index : Size=1, Index=None, Ordered=False\n",
            "        Key  : Dimen : Domain : Size : Members\n",
            "        None :     1 :    Any :    5 : {0, 1, 2, 3, 4}\n",
            "\n",
            "1 Var Declarations\n",
            "    x : Size=5, Index=x_index\n",
            "        Key : Lower : Value : Upper : Fixed : Stale : Domain\n",
            "          0 :     0 :   6.0 :  None : False : False : NonNegativeIntegers\n",
            "          1 :     0 :   3.0 :  None : False : False : NonNegativeIntegers\n",
            "          2 :     0 :   0.0 :  None : False : False : NonNegativeIntegers\n",
            "          3 :     0 :   0.0 :  None : False : False : NonNegativeIntegers\n",
            "          4 :     0 :   0.0 :  None : False : False : NonNegativeIntegers\n",
            "\n",
            "1 Objective Declarations\n",
            "    Objective : Size=1, Index=None, Active=True\n",
            "        Key  : Active : Sense    : Expression\n",
            "        None :   True : maximize : 12*x[0] + 14*x[1] + 10*x[2] + 15*x[3] + 14*x[4]\n",
            "\n",
            "1 Constraint Declarations\n",
            "    constraints : Size=2, Index=constraints_index, Active=True\n",
            "        Key : Lower : Body                                                     : Upper : Active\n",
            "          1 :  -Inf :   6.0*x[0] + 7.5*x[1] + 9.5*x[2] + 10.0*x[3] + 12.5*x[4] :  59.0 :   True\n",
            "          2 :  -Inf : 4.25*x[0] + 3.25*x[1] + 2.5*x[2] + 3.45*x[3] + 2.25*x[4] :  73.0 :   True\n",
            "\n",
            "5 Declarations: x_index x Objective constraints_index constraints\n"
          ]
        }
      ]
    },
    {
      "cell_type": "code",
      "source": [
        "print(results)"
      ],
      "metadata": {
        "colab": {
          "base_uri": "https://localhost:8080/"
        },
        "id": "5usX2zk3jK4m",
        "outputId": "68706747-f0db-484b-80aa-99ff78a6a90a"
      },
      "execution_count": 14,
      "outputs": [
        {
          "output_type": "stream",
          "name": "stdout",
          "text": [
            "\n",
            "Problem: \n",
            "- Name: unknown\n",
            "  Lower bound: 114.0\n",
            "  Upper bound: 114.0\n",
            "  Number of objectives: 1\n",
            "  Number of constraints: 2\n",
            "  Number of variables: 5\n",
            "  Number of binary variables: 0\n",
            "  Number of integer variables: 5\n",
            "  Number of nonzeros: 5\n",
            "  Sense: maximize\n",
            "Solver: \n",
            "- Status: ok\n",
            "  User time: -1.0\n",
            "  System time: 0.0\n",
            "  Wallclock time: 0.0\n",
            "  Termination condition: optimal\n",
            "  Termination message: Model was solved to optimality (subject to tolerances), and an optimal solution is available.\n",
            "  Statistics: \n",
            "    Branch and bound: \n",
            "      Number of bounded subproblems: 0\n",
            "      Number of created subproblems: 0\n",
            "    Black box: \n",
            "      Number of iterations: 2\n",
            "  Error rc: 0\n",
            "  Time: 0.01686882972717285\n",
            "Solution: \n",
            "- number of solutions: 0\n",
            "  number of solutions displayed: 0\n",
            "\n"
          ]
        }
      ]
    },
    {
      "cell_type": "code",
      "source": [
        "pipeModel.Objective()"
      ],
      "metadata": {
        "colab": {
          "base_uri": "https://localhost:8080/"
        },
        "id": "FEUsDGXgjK8a",
        "outputId": "376400c4-3a35-413c-81f4-e457de60fb1c"
      },
      "execution_count": 15,
      "outputs": [
        {
          "output_type": "execute_result",
          "data": {
            "text/plain": [
              "114.0"
            ]
          },
          "metadata": {},
          "execution_count": 15
        }
      ]
    },
    {
      "cell_type": "code",
      "source": [
        "for i in range(N):\n",
        "  print(f'{pipeModel.x[i]} = {pipeModel.x[i].value}')"
      ],
      "metadata": {
        "colab": {
          "base_uri": "https://localhost:8080/"
        },
        "id": "bgGK2mL0jLL6",
        "outputId": "e0bac6d0-fb9e-4aab-880c-b2c02da3141a"
      },
      "execution_count": 16,
      "outputs": [
        {
          "output_type": "stream",
          "name": "stdout",
          "text": [
            "x[0] = 6.0\n",
            "x[1] = 3.0\n",
            "x[2] = 0.0\n",
            "x[3] = 0.0\n",
            "x[4] = 0.0\n"
          ]
        }
      ]
    },
    {
      "cell_type": "code",
      "source": [
        "M = 2\n",
        "N = 5\n",
        "A =np.array([[6,7.5,9.5,10,12.5],[4.25,3.25,2.5,3.45,2.25]])\n",
        "b = np.array([12,14,10,15,14])\n",
        "c=np.array([71,87])\n",
        "col_indicies = np.arange(N)\n",
        "\n",
        "\n",
        "# creating an empty pyomo model\n",
        "pipeModel = ConcreteModel()\n",
        "pipeModel.x = Var(col_indicies, domain= NonNegativeIntegers)\n",
        "\n",
        "# objective defined as sum of all delta variable where we want to minimize number of standard pipes used\n",
        "pipeModel.Objective = Objective(expr = sum(b[j]*pipeModel.x[j] for j in col_indicies), sense= maximize)\n",
        "\n",
        "# constraints are defined as list of constraints\n",
        "pipeModel.constraints = ConstraintList()\n",
        "\n",
        "[pipeModel.constraints.add(expr = sum(A[i][j]*pipeModel.x[j] for j in range (N)) <=c[i]) for i in range (M)]\n",
        "\n",
        "\n",
        "!apt-get install -y -qq coinor-cbc\n",
        "# using solverfactory to solve above constructed pyomo model\n",
        "optCBC = SolverFactory('cbc')\n",
        "\n",
        "# solving your pipeModel using cbc solver\n",
        "results = optCBC.solve(pipeModel)\n"
      ],
      "metadata": {
        "id": "SrkVooJ4vWzt"
      },
      "execution_count": 17,
      "outputs": []
    },
    {
      "cell_type": "code",
      "source": [
        "print(results)"
      ],
      "metadata": {
        "colab": {
          "base_uri": "https://localhost:8080/"
        },
        "id": "XndmyJ32vXCc",
        "outputId": "c34a6361-f6f9-42e3-93f4-311cfbbe86b9"
      },
      "execution_count": 18,
      "outputs": [
        {
          "output_type": "stream",
          "name": "stdout",
          "text": [
            "\n",
            "Problem: \n",
            "- Name: unknown\n",
            "  Lower bound: 138.0\n",
            "  Upper bound: 138.0\n",
            "  Number of objectives: 1\n",
            "  Number of constraints: 2\n",
            "  Number of variables: 5\n",
            "  Number of binary variables: 0\n",
            "  Number of integer variables: 5\n",
            "  Number of nonzeros: 5\n",
            "  Sense: maximize\n",
            "Solver: \n",
            "- Status: ok\n",
            "  User time: -1.0\n",
            "  System time: 0.0\n",
            "  Wallclock time: 0.0\n",
            "  Termination condition: optimal\n",
            "  Termination message: Model was solved to optimality (subject to tolerances), and an optimal solution is available.\n",
            "  Statistics: \n",
            "    Branch and bound: \n",
            "      Number of bounded subproblems: 0\n",
            "      Number of created subproblems: 0\n",
            "    Black box: \n",
            "      Number of iterations: 2\n",
            "  Error rc: 0\n",
            "  Time: 0.01617741584777832\n",
            "Solution: \n",
            "- number of solutions: 0\n",
            "  number of solutions displayed: 0\n",
            "\n"
          ]
        }
      ]
    },
    {
      "cell_type": "code",
      "source": [
        "for i in range(N):\n",
        "  print(f'{pipeModel.x[i]} = {pipeModel.x[i].value}')\n",
        ""
      ],
      "metadata": {
        "colab": {
          "base_uri": "https://localhost:8080/"
        },
        "id": "3Lx0WEhIvXHu",
        "outputId": "f8c507e3-9543-45a0-a854-a88e466db557"
      },
      "execution_count": 19,
      "outputs": [
        {
          "output_type": "stream",
          "name": "stdout",
          "text": [
            "x[0] = 8.0\n",
            "x[1] = 3.0\n",
            "x[2] = 0.0\n",
            "x[3] = 0.0\n",
            "x[4] = 0.0\n"
          ]
        }
      ]
    },
    {
      "cell_type": "code",
      "source": [
        "M = 2\n",
        "N = 5\n",
        "A =np.array([[6,7.5,9.5,10,12.5],[4.25,3.25,2.5,3.45,2.25]])\n",
        "b = np.array([12,14,10,15,14])\n",
        "c=np.array([69,88])\n",
        "col_indicies = np.arange(N)\n",
        "\n",
        "\n",
        "# creating an empty pyomo model\n",
        "pipeModel = ConcreteModel()\n",
        "pipeModel.x = Var(col_indicies, domain= NonNegativeIntegers)\n",
        "\n",
        "# objective defined as sum of all delta variable where we want to minimize number of standard pipes used\n",
        "pipeModel.Objective = Objective(expr = sum(b[j]*pipeModel.x[j] for j in col_indicies), sense= maximize)\n",
        "\n",
        "# constraints are defined as list of constraints\n",
        "pipeModel.constraints = ConstraintList()\n",
        "\n",
        "[pipeModel.constraints.add(expr = sum(A[i][j]*pipeModel.x[j] for j in range (N)) <=c[i]) for i in range (M)]\n",
        "\n",
        "\n",
        "!apt-get install -y -qq coinor-cbc\n",
        "# using solverfactory to solve above constructed pyomo model\n",
        "optCBC = SolverFactory('cbc')\n",
        "\n",
        "# solving your pipeModel using cbc solver\n",
        "results = optCBC.solve(pipeModel)\n",
        "\n"
      ],
      "metadata": {
        "id": "hghsXe4QBKRd"
      },
      "execution_count": 20,
      "outputs": []
    },
    {
      "cell_type": "code",
      "source": [
        "print(results)"
      ],
      "metadata": {
        "colab": {
          "base_uri": "https://localhost:8080/"
        },
        "id": "KY18z95tCdI3",
        "outputId": "d493e15c-1fd3-4604-a559-6d9d138f392e"
      },
      "execution_count": 21,
      "outputs": [
        {
          "output_type": "stream",
          "name": "stdout",
          "text": [
            "\n",
            "Problem: \n",
            "- Name: unknown\n",
            "  Lower bound: 136.0\n",
            "  Upper bound: 136.0\n",
            "  Number of objectives: 1\n",
            "  Number of constraints: 2\n",
            "  Number of variables: 5\n",
            "  Number of binary variables: 0\n",
            "  Number of integer variables: 5\n",
            "  Number of nonzeros: 5\n",
            "  Sense: maximize\n",
            "Solver: \n",
            "- Status: ok\n",
            "  User time: -1.0\n",
            "  System time: 0.0\n",
            "  Wallclock time: 0.0\n",
            "  Termination condition: optimal\n",
            "  Termination message: Model was solved to optimality (subject to tolerances), and an optimal solution is available.\n",
            "  Statistics: \n",
            "    Branch and bound: \n",
            "      Number of bounded subproblems: 0\n",
            "      Number of created subproblems: 0\n",
            "    Black box: \n",
            "      Number of iterations: 1\n",
            "  Error rc: 0\n",
            "  Time: 0.016553163528442383\n",
            "Solution: \n",
            "- number of solutions: 0\n",
            "  number of solutions displayed: 0\n",
            "\n"
          ]
        }
      ]
    },
    {
      "cell_type": "code",
      "source": [
        "for i in range(N):\n",
        "  print(f'{pipeModel.x[i]} = {pipeModel.x[i].value}')\n",
        ""
      ],
      "metadata": {
        "colab": {
          "base_uri": "https://localhost:8080/"
        },
        "id": "iOknBRJGChDG",
        "outputId": "afb55fc9-d749-4a8b-864f-918bdfef62da"
      },
      "execution_count": 22,
      "outputs": [
        {
          "output_type": "stream",
          "name": "stdout",
          "text": [
            "x[0] = 9.0\n",
            "x[1] = 2.0\n",
            "x[2] = 0.0\n",
            "x[3] = 0.0\n",
            "x[4] = 0.0\n"
          ]
        }
      ]
    },
    {
      "cell_type": "code",
      "source": [
        "M = 2\n",
        "N = 5\n",
        "A =np.array([[6,7.5,9.5,10,12.5],[4.25,3.25,2.5,3.45,2.25]])\n",
        "b = np.array([12,14,10,15,14])\n",
        "c=np.array([67,89])\n",
        "col_indicies = np.arange(N)\n",
        "\n",
        "\n",
        "# creating an empty pyomo model\n",
        "pipeModel = ConcreteModel()\n",
        "pipeModel.x = Var(col_indicies, domain= NonNegativeIntegers)\n",
        "\n",
        "# objective defined as sum of all delta variable where we want to minimize number of standard pipes used\n",
        "pipeModel.Objective = Objective(expr = sum(b[j]*pipeModel.x[j] for j in col_indicies), sense= maximize)\n",
        "\n",
        "# constraints are defined as list of constraints\n",
        "pipeModel.constraints = ConstraintList()\n",
        "\n",
        "[pipeModel.constraints.add(expr = sum(A[i][j]*pipeModel.x[j] for j in range (N)) <=c[i]) for i in range (M)]\n",
        "\n",
        "\n",
        "!apt-get install -y -qq coinor-cbc\n",
        "# using solverfactory to solve above constructed pyomo model\n",
        "optCBC = SolverFactory('cbc')\n",
        "\n",
        "# solving your pipeModel using cbc solver\n",
        "results = optCBC.solve(pipeModel)\n"
      ],
      "metadata": {
        "id": "-D4XNu74BKit"
      },
      "execution_count": 23,
      "outputs": []
    },
    {
      "cell_type": "code",
      "source": [
        "print(results)"
      ],
      "metadata": {
        "colab": {
          "base_uri": "https://localhost:8080/"
        },
        "id": "Gy9bEr87CVRs",
        "outputId": "ac32644a-2954-4a9f-91a1-380cc0742311"
      },
      "execution_count": 24,
      "outputs": [
        {
          "output_type": "stream",
          "name": "stdout",
          "text": [
            "\n",
            "Problem: \n",
            "- Name: unknown\n",
            "  Lower bound: 132.0\n",
            "  Upper bound: 132.0\n",
            "  Number of objectives: 1\n",
            "  Number of constraints: 2\n",
            "  Number of variables: 5\n",
            "  Number of binary variables: 0\n",
            "  Number of integer variables: 5\n",
            "  Number of nonzeros: 5\n",
            "  Sense: maximize\n",
            "Solver: \n",
            "- Status: ok\n",
            "  User time: -1.0\n",
            "  System time: 0.0\n",
            "  Wallclock time: 0.01\n",
            "  Termination condition: optimal\n",
            "  Termination message: Model was solved to optimality (subject to tolerances), and an optimal solution is available.\n",
            "  Statistics: \n",
            "    Branch and bound: \n",
            "      Number of bounded subproblems: 0\n",
            "      Number of created subproblems: 0\n",
            "    Black box: \n",
            "      Number of iterations: 0\n",
            "  Error rc: 0\n",
            "  Time: 0.0341947078704834\n",
            "Solution: \n",
            "- number of solutions: 0\n",
            "  number of solutions displayed: 0\n",
            "\n"
          ]
        }
      ]
    },
    {
      "cell_type": "code",
      "source": [
        "for i in range(N):\n",
        "  print(f'{pipeModel.x[i]} = {pipeModel.x[i].value}')\n",
        ""
      ],
      "metadata": {
        "colab": {
          "base_uri": "https://localhost:8080/"
        },
        "id": "C3iB8KrcCVkx",
        "outputId": "e4118874-8078-4bb5-8f80-ab3fa87085c7"
      },
      "execution_count": 25,
      "outputs": [
        {
          "output_type": "stream",
          "name": "stdout",
          "text": [
            "x[0] = 11.0\n",
            "x[1] = 0.0\n",
            "x[2] = 0.0\n",
            "x[3] = 0.0\n",
            "x[4] = 0.0\n"
          ]
        }
      ]
    },
    {
      "cell_type": "code",
      "source": [
        "M = 2\n",
        "N = 5\n",
        "A =np.array([[6,7.5,9.5,10,12.5],[4.25,3.25,2.5,3.45,2.25]])\n",
        "b = np.array([12,14,10,15,14])\n",
        "c=np.array([65,90])\n",
        "col_indicies = np.arange(N)\n",
        "\n",
        "\n",
        "# creating an empty pyomo model\n",
        "pipeModel = ConcreteModel()\n",
        "pipeModel.x = Var(col_indicies, domain= NonNegativeIntegers)\n",
        "\n",
        "# objective defined as sum of all delta variable where we want to minimize number of standard pipes used\n",
        "pipeModel.Objective = Objective(expr = sum(b[j]*pipeModel.x[j] for j in col_indicies), sense= maximize)\n",
        "\n",
        "# constraints are defined as list of constraints\n",
        "pipeModel.constraints = ConstraintList()\n",
        "\n",
        "[pipeModel.constraints.add(expr = sum(A[i][j]*pipeModel.x[j] for j in range (N)) <=c[i]) for i in range (M)]\n",
        "\n",
        "\n",
        "!apt-get install -y -qq coinor-cbc\n",
        "# using solverfactory to solve above constructed pyomo model\n",
        "optCBC = SolverFactory('cbc')\n",
        "\n",
        "# solving your pipeModel using cbc solver\n",
        "results = optCBC.solve(pipeModel)\n",
        "\n"
      ],
      "metadata": {
        "id": "TKV0UFqzBKwE"
      },
      "execution_count": 26,
      "outputs": []
    },
    {
      "cell_type": "code",
      "source": [
        "print(results)"
      ],
      "metadata": {
        "colab": {
          "base_uri": "https://localhost:8080/"
        },
        "id": "CH8BK01YCOAs",
        "outputId": "9472242d-ea74-4b49-daac-146df3ec2db0"
      },
      "execution_count": 27,
      "outputs": [
        {
          "output_type": "stream",
          "name": "stdout",
          "text": [
            "\n",
            "Problem: \n",
            "- Name: unknown\n",
            "  Lower bound: 126.0\n",
            "  Upper bound: 126.0\n",
            "  Number of objectives: 1\n",
            "  Number of constraints: 2\n",
            "  Number of variables: 5\n",
            "  Number of binary variables: 0\n",
            "  Number of integer variables: 5\n",
            "  Number of nonzeros: 5\n",
            "  Sense: maximize\n",
            "Solver: \n",
            "- Status: ok\n",
            "  User time: -1.0\n",
            "  System time: 0.01\n",
            "  Wallclock time: 0.0\n",
            "  Termination condition: optimal\n",
            "  Termination message: Model was solved to optimality (subject to tolerances), and an optimal solution is available.\n",
            "  Statistics: \n",
            "    Branch and bound: \n",
            "      Number of bounded subproblems: 0\n",
            "      Number of created subproblems: 0\n",
            "    Black box: \n",
            "      Number of iterations: 2\n",
            "  Error rc: 0\n",
            "  Time: 0.017763137817382812\n",
            "Solution: \n",
            "- number of solutions: 0\n",
            "  number of solutions displayed: 0\n",
            "\n"
          ]
        }
      ]
    },
    {
      "cell_type": "code",
      "source": [
        "for i in range(N):\n",
        "  print(f'{pipeModel.x[i]} = {pipeModel.x[i].value}')\n",
        ""
      ],
      "metadata": {
        "colab": {
          "base_uri": "https://localhost:8080/"
        },
        "id": "4XtH7nLjCRSk",
        "outputId": "09f9cfa6-6b87-45e1-edc7-88cea7003dc8"
      },
      "execution_count": 28,
      "outputs": [
        {
          "output_type": "stream",
          "name": "stdout",
          "text": [
            "x[0] = 7.0\n",
            "x[1] = 3.0\n",
            "x[2] = 0.0\n",
            "x[3] = 0.0\n",
            "x[4] = 0.0\n"
          ]
        }
      ]
    },
    {
      "cell_type": "code",
      "source": [
        "M = 2\n",
        "N = 5\n",
        "A =np.array([[6,7.5,9.5,10,12.5],[4.25,3.25,2.5,3.45,2.25]])\n",
        "b = np.array([12,14,10,15,14])\n",
        "c=np.array([63,91])\n",
        "col_indicies = np.arange(N)\n",
        "\n",
        "\n",
        "# creating an empty pyomo model\n",
        "pipeModel = ConcreteModel()\n",
        "pipeModel.x = Var(col_indicies, domain= NonNegativeIntegers)\n",
        "\n",
        "# objective defined as sum of all delta variable where we want to minimize number of standard pipes used\n",
        "pipeModel.Objective = Objective(expr = sum(b[j]*pipeModel.x[j] for j in col_indicies), sense= maximize)\n",
        "\n",
        "# constraints are defined as list of constraints\n",
        "pipeModel.constraints = ConstraintList()\n",
        "\n",
        "[pipeModel.constraints.add(expr = sum(A[i][j]*pipeModel.x[j] for j in range (N)) <=c[i]) for i in range (M)]\n",
        "\n",
        "\n",
        "!apt-get install -y -qq coinor-cbc\n",
        "# using solverfactory to solve above constructed pyomo model\n",
        "optCBC = SolverFactory('cbc')\n",
        "\n",
        "# solving your pipeModel using cbc solver\n",
        "results = optCBC.solve(pipeModel)\n"
      ],
      "metadata": {
        "id": "8uGAWYxrBLB3"
      },
      "execution_count": 29,
      "outputs": []
    },
    {
      "cell_type": "code",
      "source": [
        "print(results)"
      ],
      "metadata": {
        "colab": {
          "base_uri": "https://localhost:8080/"
        },
        "id": "CK6L2movBLTD",
        "outputId": "8847a16f-dafd-4294-ad3a-c8b4a958fa72"
      },
      "execution_count": 30,
      "outputs": [
        {
          "output_type": "stream",
          "name": "stdout",
          "text": [
            "\n",
            "Problem: \n",
            "- Name: unknown\n",
            "  Lower bound: 124.0\n",
            "  Upper bound: 124.0\n",
            "  Number of objectives: 1\n",
            "  Number of constraints: 2\n",
            "  Number of variables: 5\n",
            "  Number of binary variables: 0\n",
            "  Number of integer variables: 5\n",
            "  Number of nonzeros: 5\n",
            "  Sense: maximize\n",
            "Solver: \n",
            "- Status: ok\n",
            "  User time: -1.0\n",
            "  System time: 0.0\n",
            "  Wallclock time: 0.0\n",
            "  Termination condition: optimal\n",
            "  Termination message: Model was solved to optimality (subject to tolerances), and an optimal solution is available.\n",
            "  Statistics: \n",
            "    Branch and bound: \n",
            "      Number of bounded subproblems: 0\n",
            "      Number of created subproblems: 0\n",
            "    Black box: \n",
            "      Number of iterations: 1\n",
            "  Error rc: 0\n",
            "  Time: 0.02230048179626465\n",
            "Solution: \n",
            "- number of solutions: 0\n",
            "  number of solutions displayed: 0\n",
            "\n"
          ]
        }
      ]
    },
    {
      "cell_type": "code",
      "source": [
        "for i in range(N):\n",
        "  print(f'{pipeModel.x[i]} = {pipeModel.x[i].value}')\n",
        ""
      ],
      "metadata": {
        "colab": {
          "base_uri": "https://localhost:8080/"
        },
        "id": "tDEE5xYVBLhX",
        "outputId": "43e592ef-5004-495e-f5e0-9042b3f3db8d"
      },
      "execution_count": 31,
      "outputs": [
        {
          "output_type": "stream",
          "name": "stdout",
          "text": [
            "x[0] = 8.0\n",
            "x[1] = 2.0\n",
            "x[2] = 0.0\n",
            "x[3] = 0.0\n",
            "x[4] = 0.0\n"
          ]
        }
      ]
    },
    {
      "cell_type": "markdown",
      "source": [
        "Ques:3\n"
      ],
      "metadata": {
        "id": "MiuuKPRFvZj6"
      }
    },
    {
      "cell_type": "code",
      "source": [
        "# number of variable representing steel plants (M=3) and hubs (N=4)\n",
        "M, N = 8,8\n",
        "\n",
        "# since variable are two dimensional ie., x_{ij}, therefore both row and column indicies are defined below\n",
        "row_indicies = np.arange(M)\n",
        "col_indicies = np.arange(N)\n",
        "\n",
        "# matrix of cost cofficient\n",
        "cost = np.array([[627,617,1270,2072,1415,2943,1064,4265], [159,1432,351,3372,237,3373,1456,5059], [609,1943,77,3365,298,3021,1484,4803],[2143,671,3876,537,1902, 1941 ,1682 ,3348],[2742, 2089 ,1931 ,2199 ,1226 ,739 ,691,1128],[2053 ,860 ,2995 ,68 ,2069 ,2065 ,993 ,3342],[656, 817, 1245, 2141, 1534 ,3351, 1137, 3887],[195, 1862, 1331 ,2921, 402, 2825, 563, 4441]])\n",
        "plant_cap = np.array([185,350,405,280,105,75,425,270])\n",
        "hub_demand = np.array([175,400,550,70,650,100,65,85])\n",
        "# defining an empty model using pyomo\n",
        "TransModel = ConcreteModel()\n",
        "\n",
        "# defining varibles used in model x_{ij} (in total 4x3 = 12 variables)\n",
        "TransModel.x = Var(row_indicies, col_indicies, domain= NonNegativeReals)\n",
        "\n",
        "# setting up the objective function\n",
        "TransModel.Objective = Objective(expr = sum(cost[i][j]*TransModel.x[i,j] for i in row_indicies for j in col_indicies), sense = minimize)"
      ],
      "metadata": {
        "id": "U2N7OUvjvXNk"
      },
      "execution_count": 32,
      "outputs": []
    },
    {
      "cell_type": "code",
      "source": [
        "# creating empty list of constraints\n",
        "TransModel.constraints = ConstraintList()\n",
        "\n",
        "# adding constraint for production capacity\n",
        "[TransModel.constraints.add(expr = sum(TransModel.x[i,j] for j in col_indicies) <= plant_cap[i]) for i in row_indicies]\n",
        "[TransModel.constraints.add(expr = sum(TransModel.x[i,j] for i in row_indicies) >= hub_demand[j]) for j in col_indicies]\n",
        "\n",
        "# printing out pyomo model\n",
        "TransModel.pprint()"
      ],
      "metadata": {
        "colab": {
          "base_uri": "https://localhost:8080/"
        },
        "id": "Gt8YbSVH0XvE",
        "outputId": "667e14ad-d22f-4e36-b781-781c30a5efcd"
      },
      "execution_count": 33,
      "outputs": [
        {
          "output_type": "stream",
          "name": "stdout",
          "text": [
            "4 Set Declarations\n",
            "    constraints_index : Size=1, Index=None, Ordered=Insertion\n",
            "        Key  : Dimen : Domain : Size : Members\n",
            "        None :     1 :    Any :   16 : {1, 2, 3, 4, 5, 6, 7, 8, 9, 10, 11, 12, 13, 14, 15, 16}\n",
            "    x_index : Size=1, Index=None, Ordered=False\n",
            "        Key  : Dimen : Domain              : Size : Members\n",
            "        None :     2 : x_index_0*x_index_1 :   64 : {(0, 0), (0, 1), (0, 2), (0, 3), (0, 4), (0, 5), (0, 6), (0, 7), (1, 0), (1, 1), (1, 2), (1, 3), (1, 4), (1, 5), (1, 6), (1, 7), (2, 0), (2, 1), (2, 2), (2, 3), (2, 4), (2, 5), (2, 6), (2, 7), (3, 0), (3, 1), (3, 2), (3, 3), (3, 4), (3, 5), (3, 6), (3, 7), (4, 0), (4, 1), (4, 2), (4, 3), (4, 4), (4, 5), (4, 6), (4, 7), (5, 0), (5, 1), (5, 2), (5, 3), (5, 4), (5, 5), (5, 6), (5, 7), (6, 0), (6, 1), (6, 2), (6, 3), (6, 4), (6, 5), (6, 6), (6, 7), (7, 0), (7, 1), (7, 2), (7, 3), (7, 4), (7, 5), (7, 6), (7, 7)}\n",
            "    x_index_0 : Size=1, Index=None, Ordered=False\n",
            "        Key  : Dimen : Domain : Size : Members\n",
            "        None :     1 :    Any :    8 : {0, 1, 2, 3, 4, 5, 6, 7}\n",
            "    x_index_1 : Size=1, Index=None, Ordered=False\n",
            "        Key  : Dimen : Domain : Size : Members\n",
            "        None :     1 :    Any :    8 : {0, 1, 2, 3, 4, 5, 6, 7}\n",
            "\n",
            "1 Var Declarations\n",
            "    x : Size=64, Index=x_index\n",
            "        Key    : Lower : Value : Upper : Fixed : Stale : Domain\n",
            "        (0, 0) :     0 :  None :  None : False :  True : NonNegativeReals\n",
            "        (0, 1) :     0 :  None :  None : False :  True : NonNegativeReals\n",
            "        (0, 2) :     0 :  None :  None : False :  True : NonNegativeReals\n",
            "        (0, 3) :     0 :  None :  None : False :  True : NonNegativeReals\n",
            "        (0, 4) :     0 :  None :  None : False :  True : NonNegativeReals\n",
            "        (0, 5) :     0 :  None :  None : False :  True : NonNegativeReals\n",
            "        (0, 6) :     0 :  None :  None : False :  True : NonNegativeReals\n",
            "        (0, 7) :     0 :  None :  None : False :  True : NonNegativeReals\n",
            "        (1, 0) :     0 :  None :  None : False :  True : NonNegativeReals\n",
            "        (1, 1) :     0 :  None :  None : False :  True : NonNegativeReals\n",
            "        (1, 2) :     0 :  None :  None : False :  True : NonNegativeReals\n",
            "        (1, 3) :     0 :  None :  None : False :  True : NonNegativeReals\n",
            "        (1, 4) :     0 :  None :  None : False :  True : NonNegativeReals\n",
            "        (1, 5) :     0 :  None :  None : False :  True : NonNegativeReals\n",
            "        (1, 6) :     0 :  None :  None : False :  True : NonNegativeReals\n",
            "        (1, 7) :     0 :  None :  None : False :  True : NonNegativeReals\n",
            "        (2, 0) :     0 :  None :  None : False :  True : NonNegativeReals\n",
            "        (2, 1) :     0 :  None :  None : False :  True : NonNegativeReals\n",
            "        (2, 2) :     0 :  None :  None : False :  True : NonNegativeReals\n",
            "        (2, 3) :     0 :  None :  None : False :  True : NonNegativeReals\n",
            "        (2, 4) :     0 :  None :  None : False :  True : NonNegativeReals\n",
            "        (2, 5) :     0 :  None :  None : False :  True : NonNegativeReals\n",
            "        (2, 6) :     0 :  None :  None : False :  True : NonNegativeReals\n",
            "        (2, 7) :     0 :  None :  None : False :  True : NonNegativeReals\n",
            "        (3, 0) :     0 :  None :  None : False :  True : NonNegativeReals\n",
            "        (3, 1) :     0 :  None :  None : False :  True : NonNegativeReals\n",
            "        (3, 2) :     0 :  None :  None : False :  True : NonNegativeReals\n",
            "        (3, 3) :     0 :  None :  None : False :  True : NonNegativeReals\n",
            "        (3, 4) :     0 :  None :  None : False :  True : NonNegativeReals\n",
            "        (3, 5) :     0 :  None :  None : False :  True : NonNegativeReals\n",
            "        (3, 6) :     0 :  None :  None : False :  True : NonNegativeReals\n",
            "        (3, 7) :     0 :  None :  None : False :  True : NonNegativeReals\n",
            "        (4, 0) :     0 :  None :  None : False :  True : NonNegativeReals\n",
            "        (4, 1) :     0 :  None :  None : False :  True : NonNegativeReals\n",
            "        (4, 2) :     0 :  None :  None : False :  True : NonNegativeReals\n",
            "        (4, 3) :     0 :  None :  None : False :  True : NonNegativeReals\n",
            "        (4, 4) :     0 :  None :  None : False :  True : NonNegativeReals\n",
            "        (4, 5) :     0 :  None :  None : False :  True : NonNegativeReals\n",
            "        (4, 6) :     0 :  None :  None : False :  True : NonNegativeReals\n",
            "        (4, 7) :     0 :  None :  None : False :  True : NonNegativeReals\n",
            "        (5, 0) :     0 :  None :  None : False :  True : NonNegativeReals\n",
            "        (5, 1) :     0 :  None :  None : False :  True : NonNegativeReals\n",
            "        (5, 2) :     0 :  None :  None : False :  True : NonNegativeReals\n",
            "        (5, 3) :     0 :  None :  None : False :  True : NonNegativeReals\n",
            "        (5, 4) :     0 :  None :  None : False :  True : NonNegativeReals\n",
            "        (5, 5) :     0 :  None :  None : False :  True : NonNegativeReals\n",
            "        (5, 6) :     0 :  None :  None : False :  True : NonNegativeReals\n",
            "        (5, 7) :     0 :  None :  None : False :  True : NonNegativeReals\n",
            "        (6, 0) :     0 :  None :  None : False :  True : NonNegativeReals\n",
            "        (6, 1) :     0 :  None :  None : False :  True : NonNegativeReals\n",
            "        (6, 2) :     0 :  None :  None : False :  True : NonNegativeReals\n",
            "        (6, 3) :     0 :  None :  None : False :  True : NonNegativeReals\n",
            "        (6, 4) :     0 :  None :  None : False :  True : NonNegativeReals\n",
            "        (6, 5) :     0 :  None :  None : False :  True : NonNegativeReals\n",
            "        (6, 6) :     0 :  None :  None : False :  True : NonNegativeReals\n",
            "        (6, 7) :     0 :  None :  None : False :  True : NonNegativeReals\n",
            "        (7, 0) :     0 :  None :  None : False :  True : NonNegativeReals\n",
            "        (7, 1) :     0 :  None :  None : False :  True : NonNegativeReals\n",
            "        (7, 2) :     0 :  None :  None : False :  True : NonNegativeReals\n",
            "        (7, 3) :     0 :  None :  None : False :  True : NonNegativeReals\n",
            "        (7, 4) :     0 :  None :  None : False :  True : NonNegativeReals\n",
            "        (7, 5) :     0 :  None :  None : False :  True : NonNegativeReals\n",
            "        (7, 6) :     0 :  None :  None : False :  True : NonNegativeReals\n",
            "        (7, 7) :     0 :  None :  None : False :  True : NonNegativeReals\n",
            "\n",
            "1 Objective Declarations\n",
            "    Objective : Size=1, Index=None, Active=True\n",
            "        Key  : Active : Sense    : Expression\n",
            "        None :   True : minimize : 627*x[0,0] + 617*x[0,1] + 1270*x[0,2] + 2072*x[0,3] + 1415*x[0,4] + 2943*x[0,5] + 1064*x[0,6] + 4265*x[0,7] + 159*x[1,0] + 1432*x[1,1] + 351*x[1,2] + 3372*x[1,3] + 237*x[1,4] + 3373*x[1,5] + 1456*x[1,6] + 5059*x[1,7] + 609*x[2,0] + 1943*x[2,1] + 77*x[2,2] + 3365*x[2,3] + 298*x[2,4] + 3021*x[2,5] + 1484*x[2,6] + 4803*x[2,7] + 2143*x[3,0] + 671*x[3,1] + 3876*x[3,2] + 537*x[3,3] + 1902*x[3,4] + 1941*x[3,5] + 1682*x[3,6] + 3348*x[3,7] + 2742*x[4,0] + 2089*x[4,1] + 1931*x[4,2] + 2199*x[4,3] + 1226*x[4,4] + 739*x[4,5] + 691*x[4,6] + 1128*x[4,7] + 2053*x[5,0] + 860*x[5,1] + 2995*x[5,2] + 68*x[5,3] + 2069*x[5,4] + 2065*x[5,5] + 993*x[5,6] + 3342*x[5,7] + 656*x[6,0] + 817*x[6,1] + 1245*x[6,2] + 2141*x[6,3] + 1534*x[6,4] + 3351*x[6,5] + 1137*x[6,6] + 3887*x[6,7] + 195*x[7,0] + 1862*x[7,1] + 1331*x[7,2] + 2921*x[7,3] + 402*x[7,4] + 2825*x[7,5] + 563*x[7,6] + 4441*x[7,7]\n",
            "\n",
            "1 Constraint Declarations\n",
            "    constraints : Size=16, Index=constraints_index, Active=True\n",
            "        Key : Lower : Body                                                                  : Upper : Active\n",
            "          1 :  -Inf : x[0,0] + x[0,1] + x[0,2] + x[0,3] + x[0,4] + x[0,5] + x[0,6] + x[0,7] : 185.0 :   True\n",
            "          2 :  -Inf : x[1,0] + x[1,1] + x[1,2] + x[1,3] + x[1,4] + x[1,5] + x[1,6] + x[1,7] : 350.0 :   True\n",
            "          3 :  -Inf : x[2,0] + x[2,1] + x[2,2] + x[2,3] + x[2,4] + x[2,5] + x[2,6] + x[2,7] : 405.0 :   True\n",
            "          4 :  -Inf : x[3,0] + x[3,1] + x[3,2] + x[3,3] + x[3,4] + x[3,5] + x[3,6] + x[3,7] : 280.0 :   True\n",
            "          5 :  -Inf : x[4,0] + x[4,1] + x[4,2] + x[4,3] + x[4,4] + x[4,5] + x[4,6] + x[4,7] : 105.0 :   True\n",
            "          6 :  -Inf : x[5,0] + x[5,1] + x[5,2] + x[5,3] + x[5,4] + x[5,5] + x[5,6] + x[5,7] :  75.0 :   True\n",
            "          7 :  -Inf : x[6,0] + x[6,1] + x[6,2] + x[6,3] + x[6,4] + x[6,5] + x[6,6] + x[6,7] : 425.0 :   True\n",
            "          8 :  -Inf : x[7,0] + x[7,1] + x[7,2] + x[7,3] + x[7,4] + x[7,5] + x[7,6] + x[7,7] : 270.0 :   True\n",
            "          9 : 175.0 : x[0,0] + x[1,0] + x[2,0] + x[3,0] + x[4,0] + x[5,0] + x[6,0] + x[7,0] :  +Inf :   True\n",
            "         10 : 400.0 : x[0,1] + x[1,1] + x[2,1] + x[3,1] + x[4,1] + x[5,1] + x[6,1] + x[7,1] :  +Inf :   True\n",
            "         11 : 550.0 : x[0,2] + x[1,2] + x[2,2] + x[3,2] + x[4,2] + x[5,2] + x[6,2] + x[7,2] :  +Inf :   True\n",
            "         12 :  70.0 : x[0,3] + x[1,3] + x[2,3] + x[3,3] + x[4,3] + x[5,3] + x[6,3] + x[7,3] :  +Inf :   True\n",
            "         13 : 650.0 : x[0,4] + x[1,4] + x[2,4] + x[3,4] + x[4,4] + x[5,4] + x[6,4] + x[7,4] :  +Inf :   True\n",
            "         14 : 100.0 : x[0,5] + x[1,5] + x[2,5] + x[3,5] + x[4,5] + x[5,5] + x[6,5] + x[7,5] :  +Inf :   True\n",
            "         15 :  65.0 : x[0,6] + x[1,6] + x[2,6] + x[3,6] + x[4,6] + x[5,6] + x[6,6] + x[7,6] :  +Inf :   True\n",
            "         16 :  85.0 : x[0,7] + x[1,7] + x[2,7] + x[3,7] + x[4,7] + x[5,7] + x[6,7] + x[7,7] :  +Inf :   True\n",
            "\n",
            "7 Declarations: x_index_0 x_index_1 x_index x Objective constraints_index constraints\n"
          ]
        }
      ]
    },
    {
      "cell_type": "code",
      "source": [
        "# installing cbc solver in collab session\n",
        "!apt-get install -y -qq coinor-cbc\n",
        "# using solverfactory to solve above constructed pyomo model\n",
        "optCBC = SolverFactory('cbc')\n",
        "result = optCBC.solve(TransModel)\n",
        "\n",
        "print('Solver status:', result.solver.status)\n",
        "print('Solver termination condition:',result.solver.termination_condition)"
      ],
      "metadata": {
        "colab": {
          "base_uri": "https://localhost:8080/"
        },
        "id": "nfr4giMN0YCl",
        "outputId": "631c475f-48d0-4ba8-80ee-6997eb4e471d"
      },
      "execution_count": 34,
      "outputs": [
        {
          "output_type": "stream",
          "name": "stdout",
          "text": [
            "Solver status: ok\n",
            "Solver termination condition: optimal\n"
          ]
        }
      ]
    },
    {
      "cell_type": "code",
      "source": [
        "TransModel.Objective()"
      ],
      "metadata": {
        "colab": {
          "base_uri": "https://localhost:8080/"
        },
        "id": "aYP4C_TC0YWe",
        "outputId": "dcc50c09-52d5-400d-c9a9-a85ede852171"
      },
      "execution_count": 35,
      "outputs": [
        {
          "output_type": "execute_result",
          "data": {
            "text/plain": [
              "1166465.0"
            ]
          },
          "metadata": {},
          "execution_count": 35
        }
      ]
    },
    {
      "cell_type": "code",
      "source": [
        "for i in range(M):\n",
        "  for j in range (N):\n",
        "    print(f'{TransModel.x[i,j]} = {TransModel.x[i,j].value}')"
      ],
      "metadata": {
        "colab": {
          "base_uri": "https://localhost:8080/"
        },
        "id": "8OsRuvUV2CHh",
        "outputId": "1110bf53-3632-412d-8597-113322d6a5f3"
      },
      "execution_count": 36,
      "outputs": [
        {
          "output_type": "stream",
          "name": "stdout",
          "text": [
            "x[0,0] = 0.0\n",
            "x[0,1] = 185.0\n",
            "x[0,2] = 0.0\n",
            "x[0,3] = 0.0\n",
            "x[0,4] = 0.0\n",
            "x[0,5] = 0.0\n",
            "x[0,6] = 0.0\n",
            "x[0,7] = 0.0\n",
            "x[1,0] = 0.0\n",
            "x[1,1] = 0.0\n",
            "x[1,2] = 0.0\n",
            "x[1,3] = 0.0\n",
            "x[1,4] = 350.0\n",
            "x[1,5] = 0.0\n",
            "x[1,6] = 0.0\n",
            "x[1,7] = 0.0\n",
            "x[2,0] = 0.0\n",
            "x[2,1] = 0.0\n",
            "x[2,2] = 375.0\n",
            "x[2,3] = 0.0\n",
            "x[2,4] = 30.0\n",
            "x[2,5] = 0.0\n",
            "x[2,6] = 0.0\n",
            "x[2,7] = 0.0\n",
            "x[3,0] = 0.0\n",
            "x[3,1] = 200.0\n",
            "x[3,2] = 0.0\n",
            "x[3,3] = 0.0\n",
            "x[3,4] = 0.0\n",
            "x[3,5] = 80.0\n",
            "x[3,6] = 0.0\n",
            "x[3,7] = 0.0\n",
            "x[4,0] = 0.0\n",
            "x[4,1] = 0.0\n",
            "x[4,2] = 0.0\n",
            "x[4,3] = 0.0\n",
            "x[4,4] = 0.0\n",
            "x[4,5] = 20.0\n",
            "x[4,6] = 0.0\n",
            "x[4,7] = 85.0\n",
            "x[5,0] = 0.0\n",
            "x[5,1] = 0.0\n",
            "x[5,2] = 0.0\n",
            "x[5,3] = 70.0\n",
            "x[5,4] = 0.0\n",
            "x[5,5] = 0.0\n",
            "x[5,6] = 5.0\n",
            "x[5,7] = 0.0\n",
            "x[6,0] = 175.0\n",
            "x[6,1] = 15.0\n",
            "x[6,2] = 175.0\n",
            "x[6,3] = 0.0\n",
            "x[6,4] = 0.0\n",
            "x[6,5] = 0.0\n",
            "x[6,6] = 60.0\n",
            "x[6,7] = 0.0\n",
            "x[7,0] = 0.0\n",
            "x[7,1] = 0.0\n",
            "x[7,2] = 0.0\n",
            "x[7,3] = 0.0\n",
            "x[7,4] = 270.0\n",
            "x[7,5] = 0.0\n",
            "x[7,6] = 0.0\n",
            "x[7,7] = 0.0\n"
          ]
        }
      ]
    },
    {
      "cell_type": "code",
      "source": [
        "#3\n",
        "# number of variable representing steel plants (M=3) and hubs (N=4)\n",
        "M, N = 8,8\n",
        "\n",
        "# since variable are two dimensional ie., x_{ij}, therefore both row and column indicies are defined below\n",
        "row_indicies = np.arange(M)\n",
        "col_indicies = np.arange(N)\n",
        "\n",
        "# matrix of cost cofficient\n",
        "cost = np.array([[627,617,1270,2072,1415,2943,1064,4265], [5000000000,1432,351,3372,237,3373,1456,5059], [609,1943,77,3365,298,3021,1484,4803],[2143,671,3876,537,1902, 1941 ,1682 ,3348],[2742, 2089 ,1931 ,2199 ,1226 ,739 ,691,1128],[2053 ,860 ,2995 ,68 ,2069 ,2065 ,993 ,3342],[656, 817, 1245, 2141, 1534 ,3351, 1137, 3887],[195, 1862, 1331 ,2921, 402, 2825, 563, 4441]])\n",
        "plant_cap = np.array([185,350,405,280,105,75,425,270])\n",
        "hub_demand = np.array([175,400,550,70,650,100,65,85])\n",
        "# defining an empty model using pyomo\n",
        "TransModel = ConcreteModel()\n",
        "\n",
        "# defining varibles used in model x_{ij} (in total 4x3 = 12 variables)\n",
        "TransModel.x = Var(row_indicies, col_indicies, domain= NonNegativeReals)\n",
        "\n",
        "# setting up the objective function\n",
        "TransModel.Objective = Objective(expr = sum(cost[i][j]*TransModel.x[i,j] for i in row_indicies for j in col_indicies), sense = minimize)"
      ],
      "metadata": {
        "id": "pVs_RaIg3pfi"
      },
      "execution_count": 37,
      "outputs": []
    },
    {
      "cell_type": "code",
      "source": [
        "# creating empty list of constraints\n",
        "TransModel.constraints = ConstraintList()\n",
        "\n",
        "# adding constraint for production capacity\n",
        "[TransModel.constraints.add(expr = sum(TransModel.x[i,j] for j in col_indicies) <= plant_cap[i]) for i in row_indicies]\n",
        "[TransModel.constraints.add(expr = sum(TransModel.x[i,j] for i in row_indicies) >= hub_demand[j]) for j in col_indicies]\n",
        "\n",
        "# printing out pyomo model\n",
        "TransModel.pprint()"
      ],
      "metadata": {
        "colab": {
          "base_uri": "https://localhost:8080/"
        },
        "id": "3Wb9ytpE3p3y",
        "outputId": "7f80cf26-a1f7-4b39-f9f1-0c4cbd1c01bd"
      },
      "execution_count": 38,
      "outputs": [
        {
          "output_type": "stream",
          "name": "stdout",
          "text": [
            "4 Set Declarations\n",
            "    constraints_index : Size=1, Index=None, Ordered=Insertion\n",
            "        Key  : Dimen : Domain : Size : Members\n",
            "        None :     1 :    Any :   16 : {1, 2, 3, 4, 5, 6, 7, 8, 9, 10, 11, 12, 13, 14, 15, 16}\n",
            "    x_index : Size=1, Index=None, Ordered=False\n",
            "        Key  : Dimen : Domain              : Size : Members\n",
            "        None :     2 : x_index_0*x_index_1 :   64 : {(0, 0), (0, 1), (0, 2), (0, 3), (0, 4), (0, 5), (0, 6), (0, 7), (1, 0), (1, 1), (1, 2), (1, 3), (1, 4), (1, 5), (1, 6), (1, 7), (2, 0), (2, 1), (2, 2), (2, 3), (2, 4), (2, 5), (2, 6), (2, 7), (3, 0), (3, 1), (3, 2), (3, 3), (3, 4), (3, 5), (3, 6), (3, 7), (4, 0), (4, 1), (4, 2), (4, 3), (4, 4), (4, 5), (4, 6), (4, 7), (5, 0), (5, 1), (5, 2), (5, 3), (5, 4), (5, 5), (5, 6), (5, 7), (6, 0), (6, 1), (6, 2), (6, 3), (6, 4), (6, 5), (6, 6), (6, 7), (7, 0), (7, 1), (7, 2), (7, 3), (7, 4), (7, 5), (7, 6), (7, 7)}\n",
            "    x_index_0 : Size=1, Index=None, Ordered=False\n",
            "        Key  : Dimen : Domain : Size : Members\n",
            "        None :     1 :    Any :    8 : {0, 1, 2, 3, 4, 5, 6, 7}\n",
            "    x_index_1 : Size=1, Index=None, Ordered=False\n",
            "        Key  : Dimen : Domain : Size : Members\n",
            "        None :     1 :    Any :    8 : {0, 1, 2, 3, 4, 5, 6, 7}\n",
            "\n",
            "1 Var Declarations\n",
            "    x : Size=64, Index=x_index\n",
            "        Key    : Lower : Value : Upper : Fixed : Stale : Domain\n",
            "        (0, 0) :     0 :  None :  None : False :  True : NonNegativeReals\n",
            "        (0, 1) :     0 :  None :  None : False :  True : NonNegativeReals\n",
            "        (0, 2) :     0 :  None :  None : False :  True : NonNegativeReals\n",
            "        (0, 3) :     0 :  None :  None : False :  True : NonNegativeReals\n",
            "        (0, 4) :     0 :  None :  None : False :  True : NonNegativeReals\n",
            "        (0, 5) :     0 :  None :  None : False :  True : NonNegativeReals\n",
            "        (0, 6) :     0 :  None :  None : False :  True : NonNegativeReals\n",
            "        (0, 7) :     0 :  None :  None : False :  True : NonNegativeReals\n",
            "        (1, 0) :     0 :  None :  None : False :  True : NonNegativeReals\n",
            "        (1, 1) :     0 :  None :  None : False :  True : NonNegativeReals\n",
            "        (1, 2) :     0 :  None :  None : False :  True : NonNegativeReals\n",
            "        (1, 3) :     0 :  None :  None : False :  True : NonNegativeReals\n",
            "        (1, 4) :     0 :  None :  None : False :  True : NonNegativeReals\n",
            "        (1, 5) :     0 :  None :  None : False :  True : NonNegativeReals\n",
            "        (1, 6) :     0 :  None :  None : False :  True : NonNegativeReals\n",
            "        (1, 7) :     0 :  None :  None : False :  True : NonNegativeReals\n",
            "        (2, 0) :     0 :  None :  None : False :  True : NonNegativeReals\n",
            "        (2, 1) :     0 :  None :  None : False :  True : NonNegativeReals\n",
            "        (2, 2) :     0 :  None :  None : False :  True : NonNegativeReals\n",
            "        (2, 3) :     0 :  None :  None : False :  True : NonNegativeReals\n",
            "        (2, 4) :     0 :  None :  None : False :  True : NonNegativeReals\n",
            "        (2, 5) :     0 :  None :  None : False :  True : NonNegativeReals\n",
            "        (2, 6) :     0 :  None :  None : False :  True : NonNegativeReals\n",
            "        (2, 7) :     0 :  None :  None : False :  True : NonNegativeReals\n",
            "        (3, 0) :     0 :  None :  None : False :  True : NonNegativeReals\n",
            "        (3, 1) :     0 :  None :  None : False :  True : NonNegativeReals\n",
            "        (3, 2) :     0 :  None :  None : False :  True : NonNegativeReals\n",
            "        (3, 3) :     0 :  None :  None : False :  True : NonNegativeReals\n",
            "        (3, 4) :     0 :  None :  None : False :  True : NonNegativeReals\n",
            "        (3, 5) :     0 :  None :  None : False :  True : NonNegativeReals\n",
            "        (3, 6) :     0 :  None :  None : False :  True : NonNegativeReals\n",
            "        (3, 7) :     0 :  None :  None : False :  True : NonNegativeReals\n",
            "        (4, 0) :     0 :  None :  None : False :  True : NonNegativeReals\n",
            "        (4, 1) :     0 :  None :  None : False :  True : NonNegativeReals\n",
            "        (4, 2) :     0 :  None :  None : False :  True : NonNegativeReals\n",
            "        (4, 3) :     0 :  None :  None : False :  True : NonNegativeReals\n",
            "        (4, 4) :     0 :  None :  None : False :  True : NonNegativeReals\n",
            "        (4, 5) :     0 :  None :  None : False :  True : NonNegativeReals\n",
            "        (4, 6) :     0 :  None :  None : False :  True : NonNegativeReals\n",
            "        (4, 7) :     0 :  None :  None : False :  True : NonNegativeReals\n",
            "        (5, 0) :     0 :  None :  None : False :  True : NonNegativeReals\n",
            "        (5, 1) :     0 :  None :  None : False :  True : NonNegativeReals\n",
            "        (5, 2) :     0 :  None :  None : False :  True : NonNegativeReals\n",
            "        (5, 3) :     0 :  None :  None : False :  True : NonNegativeReals\n",
            "        (5, 4) :     0 :  None :  None : False :  True : NonNegativeReals\n",
            "        (5, 5) :     0 :  None :  None : False :  True : NonNegativeReals\n",
            "        (5, 6) :     0 :  None :  None : False :  True : NonNegativeReals\n",
            "        (5, 7) :     0 :  None :  None : False :  True : NonNegativeReals\n",
            "        (6, 0) :     0 :  None :  None : False :  True : NonNegativeReals\n",
            "        (6, 1) :     0 :  None :  None : False :  True : NonNegativeReals\n",
            "        (6, 2) :     0 :  None :  None : False :  True : NonNegativeReals\n",
            "        (6, 3) :     0 :  None :  None : False :  True : NonNegativeReals\n",
            "        (6, 4) :     0 :  None :  None : False :  True : NonNegativeReals\n",
            "        (6, 5) :     0 :  None :  None : False :  True : NonNegativeReals\n",
            "        (6, 6) :     0 :  None :  None : False :  True : NonNegativeReals\n",
            "        (6, 7) :     0 :  None :  None : False :  True : NonNegativeReals\n",
            "        (7, 0) :     0 :  None :  None : False :  True : NonNegativeReals\n",
            "        (7, 1) :     0 :  None :  None : False :  True : NonNegativeReals\n",
            "        (7, 2) :     0 :  None :  None : False :  True : NonNegativeReals\n",
            "        (7, 3) :     0 :  None :  None : False :  True : NonNegativeReals\n",
            "        (7, 4) :     0 :  None :  None : False :  True : NonNegativeReals\n",
            "        (7, 5) :     0 :  None :  None : False :  True : NonNegativeReals\n",
            "        (7, 6) :     0 :  None :  None : False :  True : NonNegativeReals\n",
            "        (7, 7) :     0 :  None :  None : False :  True : NonNegativeReals\n",
            "\n",
            "1 Objective Declarations\n",
            "    Objective : Size=1, Index=None, Active=True\n",
            "        Key  : Active : Sense    : Expression\n",
            "        None :   True : minimize : 627*x[0,0] + 617*x[0,1] + 1270*x[0,2] + 2072*x[0,3] + 1415*x[0,4] + 2943*x[0,5] + 1064*x[0,6] + 4265*x[0,7] + 5000000000*x[1,0] + 1432*x[1,1] + 351*x[1,2] + 3372*x[1,3] + 237*x[1,4] + 3373*x[1,5] + 1456*x[1,6] + 5059*x[1,7] + 609*x[2,0] + 1943*x[2,1] + 77*x[2,2] + 3365*x[2,3] + 298*x[2,4] + 3021*x[2,5] + 1484*x[2,6] + 4803*x[2,7] + 2143*x[3,0] + 671*x[3,1] + 3876*x[3,2] + 537*x[3,3] + 1902*x[3,4] + 1941*x[3,5] + 1682*x[3,6] + 3348*x[3,7] + 2742*x[4,0] + 2089*x[4,1] + 1931*x[4,2] + 2199*x[4,3] + 1226*x[4,4] + 739*x[4,5] + 691*x[4,6] + 1128*x[4,7] + 2053*x[5,0] + 860*x[5,1] + 2995*x[5,2] + 68*x[5,3] + 2069*x[5,4] + 2065*x[5,5] + 993*x[5,6] + 3342*x[5,7] + 656*x[6,0] + 817*x[6,1] + 1245*x[6,2] + 2141*x[6,3] + 1534*x[6,4] + 3351*x[6,5] + 1137*x[6,6] + 3887*x[6,7] + 195*x[7,0] + 1862*x[7,1] + 1331*x[7,2] + 2921*x[7,3] + 402*x[7,4] + 2825*x[7,5] + 563*x[7,6] + 4441*x[7,7]\n",
            "\n",
            "1 Constraint Declarations\n",
            "    constraints : Size=16, Index=constraints_index, Active=True\n",
            "        Key : Lower : Body                                                                  : Upper : Active\n",
            "          1 :  -Inf : x[0,0] + x[0,1] + x[0,2] + x[0,3] + x[0,4] + x[0,5] + x[0,6] + x[0,7] : 185.0 :   True\n",
            "          2 :  -Inf : x[1,0] + x[1,1] + x[1,2] + x[1,3] + x[1,4] + x[1,5] + x[1,6] + x[1,7] : 350.0 :   True\n",
            "          3 :  -Inf : x[2,0] + x[2,1] + x[2,2] + x[2,3] + x[2,4] + x[2,5] + x[2,6] + x[2,7] : 405.0 :   True\n",
            "          4 :  -Inf : x[3,0] + x[3,1] + x[3,2] + x[3,3] + x[3,4] + x[3,5] + x[3,6] + x[3,7] : 280.0 :   True\n",
            "          5 :  -Inf : x[4,0] + x[4,1] + x[4,2] + x[4,3] + x[4,4] + x[4,5] + x[4,6] + x[4,7] : 105.0 :   True\n",
            "          6 :  -Inf : x[5,0] + x[5,1] + x[5,2] + x[5,3] + x[5,4] + x[5,5] + x[5,6] + x[5,7] :  75.0 :   True\n",
            "          7 :  -Inf : x[6,0] + x[6,1] + x[6,2] + x[6,3] + x[6,4] + x[6,5] + x[6,6] + x[6,7] : 425.0 :   True\n",
            "          8 :  -Inf : x[7,0] + x[7,1] + x[7,2] + x[7,3] + x[7,4] + x[7,5] + x[7,6] + x[7,7] : 270.0 :   True\n",
            "          9 : 175.0 : x[0,0] + x[1,0] + x[2,0] + x[3,0] + x[4,0] + x[5,0] + x[6,0] + x[7,0] :  +Inf :   True\n",
            "         10 : 400.0 : x[0,1] + x[1,1] + x[2,1] + x[3,1] + x[4,1] + x[5,1] + x[6,1] + x[7,1] :  +Inf :   True\n",
            "         11 : 550.0 : x[0,2] + x[1,2] + x[2,2] + x[3,2] + x[4,2] + x[5,2] + x[6,2] + x[7,2] :  +Inf :   True\n",
            "         12 :  70.0 : x[0,3] + x[1,3] + x[2,3] + x[3,3] + x[4,3] + x[5,3] + x[6,3] + x[7,3] :  +Inf :   True\n",
            "         13 : 650.0 : x[0,4] + x[1,4] + x[2,4] + x[3,4] + x[4,4] + x[5,4] + x[6,4] + x[7,4] :  +Inf :   True\n",
            "         14 : 100.0 : x[0,5] + x[1,5] + x[2,5] + x[3,5] + x[4,5] + x[5,5] + x[6,5] + x[7,5] :  +Inf :   True\n",
            "         15 :  65.0 : x[0,6] + x[1,6] + x[2,6] + x[3,6] + x[4,6] + x[5,6] + x[6,6] + x[7,6] :  +Inf :   True\n",
            "         16 :  85.0 : x[0,7] + x[1,7] + x[2,7] + x[3,7] + x[4,7] + x[5,7] + x[6,7] + x[7,7] :  +Inf :   True\n",
            "\n",
            "7 Declarations: x_index_0 x_index_1 x_index x Objective constraints_index constraints\n"
          ]
        }
      ]
    },
    {
      "cell_type": "code",
      "source": [
        "# installing cbc solver in collab session\n",
        "!apt-get install -y -qq coinor-cbc\n",
        "# using solverfactory to solve above constructed pyomo model\n",
        "optCBC = SolverFactory('cbc')\n",
        "result = optCBC.solve(TransModel)\n",
        "\n",
        "print('Solver status:', result.solver.status)\n",
        "print('Solver termination condition:',result.solver.termination_condition)"
      ],
      "metadata": {
        "colab": {
          "base_uri": "https://localhost:8080/"
        },
        "id": "BgV6z54ID_bX",
        "outputId": "85607d4b-f6a7-453a-e18d-379ede620c17"
      },
      "execution_count": 39,
      "outputs": [
        {
          "output_type": "stream",
          "name": "stdout",
          "text": [
            "Solver status: ok\n",
            "Solver termination condition: optimal\n"
          ]
        }
      ]
    },
    {
      "cell_type": "code",
      "source": [
        "for i in range(M):\n",
        "  for j in range (N):\n",
        "    print(f'{TransModel.x[i,j]} = {TransModel.x[i,j].value}')"
      ],
      "metadata": {
        "colab": {
          "base_uri": "https://localhost:8080/"
        },
        "id": "Uf3zniQw5dvF",
        "outputId": "9a95fe36-22a8-4ecd-d56b-f506b9c52083"
      },
      "execution_count": 40,
      "outputs": [
        {
          "output_type": "stream",
          "name": "stdout",
          "text": [
            "x[0,0] = 0.0\n",
            "x[0,1] = 185.0\n",
            "x[0,2] = 0.0\n",
            "x[0,3] = 0.0\n",
            "x[0,4] = 0.0\n",
            "x[0,5] = 0.0\n",
            "x[0,6] = 0.0\n",
            "x[0,7] = 0.0\n",
            "x[1,0] = 0.0\n",
            "x[1,1] = 0.0\n",
            "x[1,2] = 0.0\n",
            "x[1,3] = 0.0\n",
            "x[1,4] = 350.0\n",
            "x[1,5] = 0.0\n",
            "x[1,6] = 0.0\n",
            "x[1,7] = 0.0\n",
            "x[2,0] = 0.0\n",
            "x[2,1] = 0.0\n",
            "x[2,2] = 375.0\n",
            "x[2,3] = 0.0\n",
            "x[2,4] = 30.0\n",
            "x[2,5] = 0.0\n",
            "x[2,6] = 0.0\n",
            "x[2,7] = 0.0\n",
            "x[3,0] = 0.0\n",
            "x[3,1] = 200.0\n",
            "x[3,2] = 0.0\n",
            "x[3,3] = 0.0\n",
            "x[3,4] = 0.0\n",
            "x[3,5] = 80.0\n",
            "x[3,6] = 0.0\n",
            "x[3,7] = 0.0\n",
            "x[4,0] = 0.0\n",
            "x[4,1] = 0.0\n",
            "x[4,2] = 0.0\n",
            "x[4,3] = 0.0\n",
            "x[4,4] = 0.0\n",
            "x[4,5] = 20.0\n",
            "x[4,6] = 0.0\n",
            "x[4,7] = 85.0\n",
            "x[5,0] = 0.0\n",
            "x[5,1] = 0.0\n",
            "x[5,2] = 0.0\n",
            "x[5,3] = 70.0\n",
            "x[5,4] = 0.0\n",
            "x[5,5] = 0.0\n",
            "x[5,6] = 5.0\n",
            "x[5,7] = 0.0\n",
            "x[6,0] = 175.0\n",
            "x[6,1] = 15.0\n",
            "x[6,2] = 175.0\n",
            "x[6,3] = 0.0\n",
            "x[6,4] = 0.0\n",
            "x[6,5] = 0.0\n",
            "x[6,6] = 60.0\n",
            "x[6,7] = 0.0\n",
            "x[7,0] = 0.0\n",
            "x[7,1] = 0.0\n",
            "x[7,2] = 0.0\n",
            "x[7,3] = 0.0\n",
            "x[7,4] = 270.0\n",
            "x[7,5] = 0.0\n",
            "x[7,6] = 0.0\n",
            "x[7,7] = 0.0\n"
          ]
        }
      ]
    },
    {
      "cell_type": "code",
      "source": [
        "#4\n",
        "# number of variable representing steel plants (M=3) and hubs (N=4)\n",
        "M, N = 8,8\n",
        "\n",
        "# since variable are two dimensional ie., x_{ij}, therefore both row and column indicies are defined below\n",
        "row_indicies = np.arange(M)\n",
        "col_indicies = np.arange(N)\n",
        "\n",
        "# matrix of cost cofficient\n",
        "cost = np.array([[627,617,1270,2072,1415,2943,1064,4265], [1000000000,1432,351,3372,237,3373,1456,5059], [609,1943,77,3365,298,3021,1484,4803],[2143,671,3876,537,1902, 1941 ,1682 ,3348],[2742, 2089 ,1931 ,2199 ,1226 ,739 ,691,1000000000],[2053 ,860 ,2995 ,1000000000 ,2069 ,2065 ,993 ,3342],[656, 817, 1245, 2141, 1534 ,3351, 1137, 3887],[195, 1862, 1331 ,2921, 402, 2825, 563, 4441]])\n",
        "plant_cap = np.array([185,350,405,280,105,75,425,270])\n",
        "hub_demand = np.array([175,400,550,70,650,100,65,85])\n",
        "# defining an empty model using pyomo\n",
        "TransModel = ConcreteModel()\n",
        "\n",
        "# defining varibles used in model x_{ij} (in total 4x3 = 12 variables)\n",
        "TransModel.x = Var(row_indicies, col_indicies, domain= NonNegativeIntegers)\n",
        "\n",
        "# setting up the objective function\n",
        "TransModel.Objective = Objective(expr = sum(cost[i][j]*TransModel.x[i,j] for i in row_indicies for j in col_indicies), sense = minimize)"
      ],
      "metadata": {
        "id": "CLWGahix5d_-"
      },
      "execution_count": 41,
      "outputs": []
    },
    {
      "cell_type": "code",
      "source": [
        "# creating empty list of constraints\n",
        "TransModel.constraints = ConstraintList()\n",
        "\n",
        "# adding constraint for production capacity\n",
        "[TransModel.constraints.add(expr = sum(TransModel.x[i,j] for j in col_indicies) <= plant_cap[i]) for i in row_indicies]\n",
        "[TransModel.constraints.add(expr = sum(TransModel.x[i,j] for i in row_indicies) >= hub_demand[j]) for j in col_indicies]\n",
        "\n",
        "# printing out pyomo model\n",
        "TransModel.pprint()"
      ],
      "metadata": {
        "colab": {
          "base_uri": "https://localhost:8080/"
        },
        "id": "FAXo7mqV7hTP",
        "outputId": "33d623c8-558d-466a-a7c8-760e09b57a6d"
      },
      "execution_count": 42,
      "outputs": [
        {
          "output_type": "stream",
          "name": "stdout",
          "text": [
            "4 Set Declarations\n",
            "    constraints_index : Size=1, Index=None, Ordered=Insertion\n",
            "        Key  : Dimen : Domain : Size : Members\n",
            "        None :     1 :    Any :   16 : {1, 2, 3, 4, 5, 6, 7, 8, 9, 10, 11, 12, 13, 14, 15, 16}\n",
            "    x_index : Size=1, Index=None, Ordered=False\n",
            "        Key  : Dimen : Domain              : Size : Members\n",
            "        None :     2 : x_index_0*x_index_1 :   64 : {(0, 0), (0, 1), (0, 2), (0, 3), (0, 4), (0, 5), (0, 6), (0, 7), (1, 0), (1, 1), (1, 2), (1, 3), (1, 4), (1, 5), (1, 6), (1, 7), (2, 0), (2, 1), (2, 2), (2, 3), (2, 4), (2, 5), (2, 6), (2, 7), (3, 0), (3, 1), (3, 2), (3, 3), (3, 4), (3, 5), (3, 6), (3, 7), (4, 0), (4, 1), (4, 2), (4, 3), (4, 4), (4, 5), (4, 6), (4, 7), (5, 0), (5, 1), (5, 2), (5, 3), (5, 4), (5, 5), (5, 6), (5, 7), (6, 0), (6, 1), (6, 2), (6, 3), (6, 4), (6, 5), (6, 6), (6, 7), (7, 0), (7, 1), (7, 2), (7, 3), (7, 4), (7, 5), (7, 6), (7, 7)}\n",
            "    x_index_0 : Size=1, Index=None, Ordered=False\n",
            "        Key  : Dimen : Domain : Size : Members\n",
            "        None :     1 :    Any :    8 : {0, 1, 2, 3, 4, 5, 6, 7}\n",
            "    x_index_1 : Size=1, Index=None, Ordered=False\n",
            "        Key  : Dimen : Domain : Size : Members\n",
            "        None :     1 :    Any :    8 : {0, 1, 2, 3, 4, 5, 6, 7}\n",
            "\n",
            "1 Var Declarations\n",
            "    x : Size=64, Index=x_index\n",
            "        Key    : Lower : Value : Upper : Fixed : Stale : Domain\n",
            "        (0, 0) :     0 :  None :  None : False :  True : NonNegativeIntegers\n",
            "        (0, 1) :     0 :  None :  None : False :  True : NonNegativeIntegers\n",
            "        (0, 2) :     0 :  None :  None : False :  True : NonNegativeIntegers\n",
            "        (0, 3) :     0 :  None :  None : False :  True : NonNegativeIntegers\n",
            "        (0, 4) :     0 :  None :  None : False :  True : NonNegativeIntegers\n",
            "        (0, 5) :     0 :  None :  None : False :  True : NonNegativeIntegers\n",
            "        (0, 6) :     0 :  None :  None : False :  True : NonNegativeIntegers\n",
            "        (0, 7) :     0 :  None :  None : False :  True : NonNegativeIntegers\n",
            "        (1, 0) :     0 :  None :  None : False :  True : NonNegativeIntegers\n",
            "        (1, 1) :     0 :  None :  None : False :  True : NonNegativeIntegers\n",
            "        (1, 2) :     0 :  None :  None : False :  True : NonNegativeIntegers\n",
            "        (1, 3) :     0 :  None :  None : False :  True : NonNegativeIntegers\n",
            "        (1, 4) :     0 :  None :  None : False :  True : NonNegativeIntegers\n",
            "        (1, 5) :     0 :  None :  None : False :  True : NonNegativeIntegers\n",
            "        (1, 6) :     0 :  None :  None : False :  True : NonNegativeIntegers\n",
            "        (1, 7) :     0 :  None :  None : False :  True : NonNegativeIntegers\n",
            "        (2, 0) :     0 :  None :  None : False :  True : NonNegativeIntegers\n",
            "        (2, 1) :     0 :  None :  None : False :  True : NonNegativeIntegers\n",
            "        (2, 2) :     0 :  None :  None : False :  True : NonNegativeIntegers\n",
            "        (2, 3) :     0 :  None :  None : False :  True : NonNegativeIntegers\n",
            "        (2, 4) :     0 :  None :  None : False :  True : NonNegativeIntegers\n",
            "        (2, 5) :     0 :  None :  None : False :  True : NonNegativeIntegers\n",
            "        (2, 6) :     0 :  None :  None : False :  True : NonNegativeIntegers\n",
            "        (2, 7) :     0 :  None :  None : False :  True : NonNegativeIntegers\n",
            "        (3, 0) :     0 :  None :  None : False :  True : NonNegativeIntegers\n",
            "        (3, 1) :     0 :  None :  None : False :  True : NonNegativeIntegers\n",
            "        (3, 2) :     0 :  None :  None : False :  True : NonNegativeIntegers\n",
            "        (3, 3) :     0 :  None :  None : False :  True : NonNegativeIntegers\n",
            "        (3, 4) :     0 :  None :  None : False :  True : NonNegativeIntegers\n",
            "        (3, 5) :     0 :  None :  None : False :  True : NonNegativeIntegers\n",
            "        (3, 6) :     0 :  None :  None : False :  True : NonNegativeIntegers\n",
            "        (3, 7) :     0 :  None :  None : False :  True : NonNegativeIntegers\n",
            "        (4, 0) :     0 :  None :  None : False :  True : NonNegativeIntegers\n",
            "        (4, 1) :     0 :  None :  None : False :  True : NonNegativeIntegers\n",
            "        (4, 2) :     0 :  None :  None : False :  True : NonNegativeIntegers\n",
            "        (4, 3) :     0 :  None :  None : False :  True : NonNegativeIntegers\n",
            "        (4, 4) :     0 :  None :  None : False :  True : NonNegativeIntegers\n",
            "        (4, 5) :     0 :  None :  None : False :  True : NonNegativeIntegers\n",
            "        (4, 6) :     0 :  None :  None : False :  True : NonNegativeIntegers\n",
            "        (4, 7) :     0 :  None :  None : False :  True : NonNegativeIntegers\n",
            "        (5, 0) :     0 :  None :  None : False :  True : NonNegativeIntegers\n",
            "        (5, 1) :     0 :  None :  None : False :  True : NonNegativeIntegers\n",
            "        (5, 2) :     0 :  None :  None : False :  True : NonNegativeIntegers\n",
            "        (5, 3) :     0 :  None :  None : False :  True : NonNegativeIntegers\n",
            "        (5, 4) :     0 :  None :  None : False :  True : NonNegativeIntegers\n",
            "        (5, 5) :     0 :  None :  None : False :  True : NonNegativeIntegers\n",
            "        (5, 6) :     0 :  None :  None : False :  True : NonNegativeIntegers\n",
            "        (5, 7) :     0 :  None :  None : False :  True : NonNegativeIntegers\n",
            "        (6, 0) :     0 :  None :  None : False :  True : NonNegativeIntegers\n",
            "        (6, 1) :     0 :  None :  None : False :  True : NonNegativeIntegers\n",
            "        (6, 2) :     0 :  None :  None : False :  True : NonNegativeIntegers\n",
            "        (6, 3) :     0 :  None :  None : False :  True : NonNegativeIntegers\n",
            "        (6, 4) :     0 :  None :  None : False :  True : NonNegativeIntegers\n",
            "        (6, 5) :     0 :  None :  None : False :  True : NonNegativeIntegers\n",
            "        (6, 6) :     0 :  None :  None : False :  True : NonNegativeIntegers\n",
            "        (6, 7) :     0 :  None :  None : False :  True : NonNegativeIntegers\n",
            "        (7, 0) :     0 :  None :  None : False :  True : NonNegativeIntegers\n",
            "        (7, 1) :     0 :  None :  None : False :  True : NonNegativeIntegers\n",
            "        (7, 2) :     0 :  None :  None : False :  True : NonNegativeIntegers\n",
            "        (7, 3) :     0 :  None :  None : False :  True : NonNegativeIntegers\n",
            "        (7, 4) :     0 :  None :  None : False :  True : NonNegativeIntegers\n",
            "        (7, 5) :     0 :  None :  None : False :  True : NonNegativeIntegers\n",
            "        (7, 6) :     0 :  None :  None : False :  True : NonNegativeIntegers\n",
            "        (7, 7) :     0 :  None :  None : False :  True : NonNegativeIntegers\n",
            "\n",
            "1 Objective Declarations\n",
            "    Objective : Size=1, Index=None, Active=True\n",
            "        Key  : Active : Sense    : Expression\n",
            "        None :   True : minimize : 627*x[0,0] + 617*x[0,1] + 1270*x[0,2] + 2072*x[0,3] + 1415*x[0,4] + 2943*x[0,5] + 1064*x[0,6] + 4265*x[0,7] + 1000000000*x[1,0] + 1432*x[1,1] + 351*x[1,2] + 3372*x[1,3] + 237*x[1,4] + 3373*x[1,5] + 1456*x[1,6] + 5059*x[1,7] + 609*x[2,0] + 1943*x[2,1] + 77*x[2,2] + 3365*x[2,3] + 298*x[2,4] + 3021*x[2,5] + 1484*x[2,6] + 4803*x[2,7] + 2143*x[3,0] + 671*x[3,1] + 3876*x[3,2] + 537*x[3,3] + 1902*x[3,4] + 1941*x[3,5] + 1682*x[3,6] + 3348*x[3,7] + 2742*x[4,0] + 2089*x[4,1] + 1931*x[4,2] + 2199*x[4,3] + 1226*x[4,4] + 739*x[4,5] + 691*x[4,6] + 1000000000*x[4,7] + 2053*x[5,0] + 860*x[5,1] + 2995*x[5,2] + 1000000000*x[5,3] + 2069*x[5,4] + 2065*x[5,5] + 993*x[5,6] + 3342*x[5,7] + 656*x[6,0] + 817*x[6,1] + 1245*x[6,2] + 2141*x[6,3] + 1534*x[6,4] + 3351*x[6,5] + 1137*x[6,6] + 3887*x[6,7] + 195*x[7,0] + 1862*x[7,1] + 1331*x[7,2] + 2921*x[7,3] + 402*x[7,4] + 2825*x[7,5] + 563*x[7,6] + 4441*x[7,7]\n",
            "\n",
            "1 Constraint Declarations\n",
            "    constraints : Size=16, Index=constraints_index, Active=True\n",
            "        Key : Lower : Body                                                                  : Upper : Active\n",
            "          1 :  -Inf : x[0,0] + x[0,1] + x[0,2] + x[0,3] + x[0,4] + x[0,5] + x[0,6] + x[0,7] : 185.0 :   True\n",
            "          2 :  -Inf : x[1,0] + x[1,1] + x[1,2] + x[1,3] + x[1,4] + x[1,5] + x[1,6] + x[1,7] : 350.0 :   True\n",
            "          3 :  -Inf : x[2,0] + x[2,1] + x[2,2] + x[2,3] + x[2,4] + x[2,5] + x[2,6] + x[2,7] : 405.0 :   True\n",
            "          4 :  -Inf : x[3,0] + x[3,1] + x[3,2] + x[3,3] + x[3,4] + x[3,5] + x[3,6] + x[3,7] : 280.0 :   True\n",
            "          5 :  -Inf : x[4,0] + x[4,1] + x[4,2] + x[4,3] + x[4,4] + x[4,5] + x[4,6] + x[4,7] : 105.0 :   True\n",
            "          6 :  -Inf : x[5,0] + x[5,1] + x[5,2] + x[5,3] + x[5,4] + x[5,5] + x[5,6] + x[5,7] :  75.0 :   True\n",
            "          7 :  -Inf : x[6,0] + x[6,1] + x[6,2] + x[6,3] + x[6,4] + x[6,5] + x[6,6] + x[6,7] : 425.0 :   True\n",
            "          8 :  -Inf : x[7,0] + x[7,1] + x[7,2] + x[7,3] + x[7,4] + x[7,5] + x[7,6] + x[7,7] : 270.0 :   True\n",
            "          9 : 175.0 : x[0,0] + x[1,0] + x[2,0] + x[3,0] + x[4,0] + x[5,0] + x[6,0] + x[7,0] :  +Inf :   True\n",
            "         10 : 400.0 : x[0,1] + x[1,1] + x[2,1] + x[3,1] + x[4,1] + x[5,1] + x[6,1] + x[7,1] :  +Inf :   True\n",
            "         11 : 550.0 : x[0,2] + x[1,2] + x[2,2] + x[3,2] + x[4,2] + x[5,2] + x[6,2] + x[7,2] :  +Inf :   True\n",
            "         12 :  70.0 : x[0,3] + x[1,3] + x[2,3] + x[3,3] + x[4,3] + x[5,3] + x[6,3] + x[7,3] :  +Inf :   True\n",
            "         13 : 650.0 : x[0,4] + x[1,4] + x[2,4] + x[3,4] + x[4,4] + x[5,4] + x[6,4] + x[7,4] :  +Inf :   True\n",
            "         14 : 100.0 : x[0,5] + x[1,5] + x[2,5] + x[3,5] + x[4,5] + x[5,5] + x[6,5] + x[7,5] :  +Inf :   True\n",
            "         15 :  65.0 : x[0,6] + x[1,6] + x[2,6] + x[3,6] + x[4,6] + x[5,6] + x[6,6] + x[7,6] :  +Inf :   True\n",
            "         16 :  85.0 : x[0,7] + x[1,7] + x[2,7] + x[3,7] + x[4,7] + x[5,7] + x[6,7] + x[7,7] :  +Inf :   True\n",
            "\n",
            "7 Declarations: x_index_0 x_index_1 x_index x Objective constraints_index constraints\n"
          ]
        }
      ]
    },
    {
      "cell_type": "code",
      "source": [
        "# installing cbc solver in collab session\n",
        "!apt-get install -y -qq coinor-cbc\n",
        "# using solverfactory to solve above constructed pyomo model\n",
        "optCBC = SolverFactory('cbc')\n",
        "result = optCBC.solve(TransModel)\n",
        "\n",
        "print('Solver status:', result.solver.status)\n",
        "print('Solver termination condition:',result.solver.termination_condition)"
      ],
      "metadata": {
        "colab": {
          "base_uri": "https://localhost:8080/"
        },
        "id": "tH8pW9r2EPQo",
        "outputId": "84683a47-8210-41ae-a09f-5c4eae30d0d2"
      },
      "execution_count": 43,
      "outputs": [
        {
          "output_type": "stream",
          "name": "stdout",
          "text": [
            "Solver status: ok\n",
            "Solver termination condition: optimal\n"
          ]
        }
      ]
    },
    {
      "cell_type": "code",
      "source": [
        "for i in range(M):\n",
        "  for j in range (N):\n",
        "    print(f'{TransModel.x[i,j]} = {TransModel.x[i,j].value}')"
      ],
      "metadata": {
        "colab": {
          "base_uri": "https://localhost:8080/"
        },
        "id": "Z9WaKlhL7hlC",
        "outputId": "5f5446b8-9292-402a-adf1-8b34a1ace911"
      },
      "execution_count": 44,
      "outputs": [
        {
          "output_type": "stream",
          "name": "stdout",
          "text": [
            "x[0,0] = 0.0\n",
            "x[0,1] = 185.0\n",
            "x[0,2] = 0.0\n",
            "x[0,3] = 0.0\n",
            "x[0,4] = 0.0\n",
            "x[0,5] = 0.0\n",
            "x[0,6] = 0.0\n",
            "x[0,7] = 0.0\n",
            "x[1,0] = 0.0\n",
            "x[1,1] = 0.0\n",
            "x[1,2] = 0.0\n",
            "x[1,3] = 0.0\n",
            "x[1,4] = 350.0\n",
            "x[1,5] = 0.0\n",
            "x[1,6] = 0.0\n",
            "x[1,7] = 0.0\n",
            "x[2,0] = 0.0\n",
            "x[2,1] = 0.0\n",
            "x[2,2] = 375.0\n",
            "x[2,3] = 0.0\n",
            "x[2,4] = 30.0\n",
            "x[2,5] = 0.0\n",
            "x[2,6] = 0.0\n",
            "x[2,7] = 0.0\n",
            "x[3,0] = 0.0\n",
            "x[3,1] = 200.0\n",
            "x[3,2] = 0.0\n",
            "x[3,3] = 70.0\n",
            "x[3,4] = 0.0\n",
            "x[3,5] = 0.0\n",
            "x[3,6] = 0.0\n",
            "x[3,7] = 10.0\n",
            "x[4,0] = 0.0\n",
            "x[4,1] = 0.0\n",
            "x[4,2] = 0.0\n",
            "x[4,3] = 0.0\n",
            "x[4,4] = 0.0\n",
            "x[4,5] = 100.0\n",
            "x[4,6] = 5.0\n",
            "x[4,7] = 0.0\n",
            "x[5,0] = 0.0\n",
            "x[5,1] = 0.0\n",
            "x[5,2] = 0.0\n",
            "x[5,3] = 0.0\n",
            "x[5,4] = 0.0\n",
            "x[5,5] = 0.0\n",
            "x[5,6] = 0.0\n",
            "x[5,7] = 75.0\n",
            "x[6,0] = 175.0\n",
            "x[6,1] = 15.0\n",
            "x[6,2] = 175.0\n",
            "x[6,3] = 0.0\n",
            "x[6,4] = 0.0\n",
            "x[6,5] = 0.0\n",
            "x[6,6] = 60.0\n",
            "x[6,7] = 0.0\n",
            "x[7,0] = 0.0\n",
            "x[7,1] = 0.0\n",
            "x[7,2] = 0.0\n",
            "x[7,3] = 0.0\n",
            "x[7,4] = 270.0\n",
            "x[7,5] = 0.0\n",
            "x[7,6] = 0.0\n",
            "x[7,7] = 0.0\n"
          ]
        }
      ]
    }
  ]
}