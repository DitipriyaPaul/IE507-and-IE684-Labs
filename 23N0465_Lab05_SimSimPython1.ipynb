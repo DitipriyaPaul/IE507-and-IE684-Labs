{
  "nbformat": 4,
  "nbformat_minor": 0,
  "metadata": {
    "colab": {
      "provenance": []
    },
    "kernelspec": {
      "name": "python3",
      "display_name": "Python 3"
    }
  },
  "cells": [
    {
      "cell_type": "markdown",
      "metadata": {
        "id": "uT_cmDH4VNUW"
      },
      "source": [
        "# Simulation using Python 1\n",
        "### Using Numpy's random package\n",
        "\n",
        "[Numpy Random website](https://docs.scipy.org/doc/numpy-1.14.1/reference/routines.random.html)"
      ]
    },
    {
      "cell_type": "markdown",
      "metadata": {
        "id": "L7CjxntgVigf"
      },
      "source": [
        "**import packages**"
      ]
    },
    {
      "cell_type": "code",
      "metadata": {
        "id": "xZ6aaRKXV4PY"
      },
      "source": [
        "#run this code first\n",
        "import numpy.random as rnd\n",
        "import numpy as np"
      ],
      "execution_count": null,
      "outputs": []
    },
    {
      "cell_type": "markdown",
      "metadata": {
        "id": "YNR-O4lWhEyf"
      },
      "source": [
        "**Example 1a: Roll a die 10 times and observe output**\n",
        "\n",
        "We will use randint() function for this"
      ]
    },
    {
      "cell_type": "code",
      "metadata": {
        "id": "6_A7ygliYCBZ",
        "colab": {
          "base_uri": "https://localhost:8080/"
        },
        "outputId": "97d14cf9-e7ff-4be8-c886-c8a6986960a6"
      },
      "source": [
        "#run this code.  Click play multiple times to simulate multiple dice throws\n",
        "rnd.randint(1,6+1)"
      ],
      "execution_count": null,
      "outputs": [
        {
          "output_type": "execute_result",
          "data": {
            "text/plain": [
              "4"
            ]
          },
          "metadata": {},
          "execution_count": 6
        }
      ]
    },
    {
      "cell_type": "code",
      "metadata": {
        "id": "zsKvSPgnYEm6",
        "colab": {
          "base_uri": "https://localhost:8080/"
        },
        "outputId": "225c7e82-93bd-4072-9eed-132ee99dd0ed"
      },
      "source": [
        "#insert code here to simulate 10 rolls of a die, and print the output.\n",
        "for i in range(10):\n",
        "  print(rnd.randint(1,6+1),end=', ')"
      ],
      "execution_count": null,
      "outputs": [
        {
          "output_type": "stream",
          "name": "stdout",
          "text": [
            "6, 1, 1, 2, 5, 4, 2, 1, 5, 4, "
          ]
        }
      ]
    },
    {
      "cell_type": "markdown",
      "metadata": {
        "id": "kMa9iXXOhYMz"
      },
      "source": [
        "**Example 1b: Roll a pair of dice N times, and plot histogram**\n",
        "\n",
        "We will use randint() function for this; use matplotlib.pyplot for plotting"
      ]
    },
    {
      "cell_type": "code",
      "metadata": {
        "id": "4uVftSjiYj5C",
        "colab": {
          "base_uri": "https://localhost:8080/"
        },
        "outputId": "c1e3d2b3-c2e4-45a2-daa0-44963c68e949"
      },
      "source": [
        "#Code adds the output of two 'dice throws'. Run code multiple times.\n",
        "rnd.randint(1,6+1) + rnd.randint(1,6+1)"
      ],
      "execution_count": null,
      "outputs": [
        {
          "output_type": "execute_result",
          "data": {
            "text/plain": [
              "7"
            ]
          },
          "metadata": {},
          "execution_count": 11
        }
      ]
    },
    {
      "cell_type": "code",
      "metadata": {
        "id": "Q3Ou0-00YOKB",
        "colab": {
          "base_uri": "https://localhost:8080/"
        },
        "outputId": "3bfadb43-699a-4270-ea89-8396c37cf447"
      },
      "source": [
        "#Code here simulates 10 dice throws.\n",
        "for i in range(10):\n",
        "  print(rnd.randint(1,6+1) + rnd.randint(1,6+1)  , end=', ')"
      ],
      "execution_count": null,
      "outputs": [
        {
          "output_type": "stream",
          "name": "stdout",
          "text": [
            "10, 8, 7, 6, 5, 7, 8, 10, 5, 9, "
          ]
        }
      ]
    },
    {
      "cell_type": "code",
      "metadata": {
        "id": "Jw-6fA9zYoRB"
      },
      "source": [
        "#Required for plotting.\n",
        "import matplotlib.pyplot as plt"
      ],
      "execution_count": null,
      "outputs": []
    },
    {
      "cell_type": "code",
      "metadata": {
        "id": "I1qr9mvzY479",
        "colab": {
          "base_uri": "https://localhost:8080/",
          "height": 499
        },
        "outputId": "a212e665-bd51-4dbf-9908-bfb19528b551"
      },
      "source": [
        "# Simulate N throws of pair of dice, and plot histogram\n",
        "n=1000000\n",
        "x=[]\n",
        "for i in range(n):\n",
        "  x.append( rnd.randint(1,6+1) + rnd.randint(1,6+1) )\n",
        "bins=[2,3,4,5,6,7,8,9,10,11,12,13]\n",
        "\n",
        "plt.hist( x ,bins)"
      ],
      "execution_count": null,
      "outputs": [
        {
          "output_type": "execute_result",
          "data": {
            "text/plain": [
              "(array([ 27674.,  55390.,  84027., 110567., 139289., 166279., 138947.,\n",
              "        111000.,  83684.,  55202.,  27941.]),\n",
              " array([ 2.,  3.,  4.,  5.,  6.,  7.,  8.,  9., 10., 11., 12., 13.]),\n",
              " <BarContainer object of 11 artists>)"
            ]
          },
          "metadata": {},
          "execution_count": 19
        },
        {
          "output_type": "display_data",
          "data": {
            "text/plain": [
              "<Figure size 640x480 with 1 Axes>"
            ],
            "image/png": "[encoded data removed]"
          },
          "metadata": {}
        }
      ]
    },
    {
      "cell_type": "markdown",
      "metadata": {
        "id": "TycNwmAPiEux"
      },
      "source": [
        "**Example 1c,1d: Toss a fair/unfair coin 10 times**\n",
        "\n",
        "Use choice() function"
      ]
    },
    {
      "cell_type": "code",
      "metadata": {
        "id": "Eo-lMDhvZHY9",
        "colab": {
          "base_uri": "https://localhost:8080/"
        },
        "outputId": "f5607d06-ee2d-4229-f166-15cd58b2a06a"
      },
      "source": [
        "#insert code here to simulate toss a fair coin, choice(coin)\n",
        "coin=['Heads', 'Tails']\n",
        "for i in range(10):\n",
        " print( rnd.choice(coin)   )"
      ],
      "execution_count": null,
      "outputs": [
        {
          "output_type": "stream",
          "name": "stdout",
          "text": [
            "Heads\n",
            "Heads\n",
            "Heads\n",
            "Heads\n",
            "Tails\n",
            "Tails\n",
            "Heads\n",
            "Heads\n",
            "Heads\n",
            "Heads\n"
          ]
        }
      ]
    },
    {
      "cell_type": "code",
      "metadata": {
        "id": "DKQ4dfi0aFi0",
        "colab": {
          "base_uri": "https://localhost:8080/"
        },
        "outputId": "5a13ee14-37c5-4492-e5af-f998a5306f57"
      },
      "source": [
        "#insert code here to simulate toss an unfair coin, with P{H}=0.8.\n",
        "#use choice(coin, p=[0.8, 0.2])\n",
        "coin=['Heads', 'Tails']\n",
        "for i in range(10):\n",
        " print( rnd.choice(coin, p=[0.8, 0.2]) )"
      ],
      "execution_count": null,
      "outputs": [
        {
          "output_type": "stream",
          "name": "stdout",
          "text": [
            "Heads\n",
            "Heads\n",
            "Tails\n",
            "Tails\n",
            "Heads\n",
            "Heads\n",
            "Heads\n",
            "Heads\n",
            "Heads\n",
            "Heads\n"
          ]
        }
      ]
    },
    {
      "cell_type": "code",
      "metadata": {
        "id": "SRqkKjQmco-A",
        "colab": {
          "base_uri": "https://localhost:8080/"
        },
        "outputId": "74df668d-2814-4423-a4d9-c783bb13b960"
      },
      "source": [
        "#A more compact code. Use  choice(coin, p=[0.8, 0.2], size=10)\n",
        "coin=['Heads', 'Tails']\n",
        "rnd.choice(coin, p=[0.8, 0.2], size=10)"
      ],
      "execution_count": null,
      "outputs": [
        {
          "output_type": "execute_result",
          "data": {
            "text/plain": [
              "array(['Heads', 'Heads', 'Heads', 'Heads', 'Heads', 'Tails', 'Heads',\n",
              "       'Heads', 'Tails', 'Heads'], dtype='<U5')"
            ]
          },
          "metadata": {},
          "execution_count": 22
        }
      ]
    },
    {
      "cell_type": "markdown",
      "metadata": {
        "id": "dt0uVvF-ifKy"
      },
      "source": [
        "**Example 1e: Sample 3 balls from a box with 5 red and 3 blue balls, without replacement**\n",
        "\n",
        "Use sample() function"
      ]
    },
    {
      "cell_type": "code",
      "metadata": {
        "id": "dPFuBcCDc7Dm",
        "colab": {
          "base_uri": "https://localhost:8080/",
          "height": 35
        },
        "outputId": "eaceb796-c624-49ae-fdb1-cee303593369"
      },
      "source": [
        "#insert code here to simulate sampling without replacement. Use replace='False' in choice.\n",
        "box=['red','red','red','red','red','blue','blue','blue']\n",
        "rnd.choice(box,replace='False' )"
      ],
      "execution_count": null,
      "outputs": [
        {
          "output_type": "execute_result",
          "data": {
            "text/plain": [
              "'blue'"
            ],
            "application/vnd.google.colaboratory.intrinsic+json": {
              "type": "string"
            }
          },
          "metadata": {},
          "execution_count": 23
        }
      ]
    },
    {
      "cell_type": "markdown",
      "metadata": {
        "id": "fywJnj-hiwqt"
      },
      "source": [
        "**Example 1f: Randomly shuffle a list of students**\n",
        "\n",
        "Use shuffle() function"
      ]
    },
    {
      "cell_type": "code",
      "metadata": {
        "id": "eduuS73peSiu",
        "colab": {
          "base_uri": "https://localhost:8080/"
        },
        "outputId": "672205cc-38ce-4064-abdc-ea84b504ec97"
      },
      "source": [
        "#insert code here to shuffle a list\n",
        "students=['bhanu','shyam','radha','vijay','manu','deepak','meena','latha', 'alex', 'sania']\n",
        "rnd.shuffle(students)\n",
        "print(students)"
      ],
      "execution_count": null,
      "outputs": [
        {
          "output_type": "stream",
          "name": "stdout",
          "text": [
            "['meena', 'bhanu', 'manu', 'alex', 'sania', 'deepak', 'latha', 'shyam', 'vijay', 'radha']\n"
          ]
        }
      ]
    },
    {
      "cell_type": "markdown",
      "metadata": {
        "id": "Sfe_K2ekyK9X"
      },
      "source": [
        "**Example 1g: Probability Distributions**\n",
        "\n",
        "Use random(), uniform(), triangular(), exponential()"
      ]
    },
    {
      "cell_type": "code",
      "metadata": {
        "id": "mr_GHbBQyX6C",
        "colab": {
          "base_uri": "https://localhost:8080/"
        },
        "outputId": "67d891a2-0ca6-4ea3-e84d-87dc74051456"
      },
      "source": [
        "# Use random() function to generate numbers between 0 and 1\n",
        "# Use uniform(a,b) function to generate numbers between a=1 and b=6\n",
        "# Use triangular(low, mode, high) function to generate numbers triangular(1,2,6)\n",
        "# Use exponential(scale) function to generate numbers exponential(scale=2); scale = 1/lambda\n",
        "print('From random', rnd.random())\n",
        "print('from uniform', rnd.uniform(1,6))\n",
        "print('from tria(1,6,2)', rnd.triangular(1,2,6))\n",
        "print('from exponential(2)', rnd.exponential(2))"
      ],
      "execution_count": null,
      "outputs": [
        {
          "output_type": "stream",
          "name": "stdout",
          "text": [
            "From random 0.04996014467727827\n",
            "from uniform 1.0784895084123978\n",
            "from tria(1,6,2) 2.25628730506794\n",
            "from exponential(2) 2.2859446125934104\n"
          ]
        }
      ]
    },
    {
      "cell_type": "markdown",
      "metadata": {
        "id": "gqI7nLL80Vh_"
      },
      "source": [
        "Next: Let's generate say 1000 samples from a distribution and plot the histogram to see the distribution"
      ]
    },
    {
      "cell_type": "code",
      "metadata": {
        "id": "ACtJnev40e1X",
        "colab": {
          "base_uri": "https://localhost:8080/",
          "height": 534
        },
        "outputId": "bced59ef-be51-4f40-ba57-6a7f5a4eab56"
      },
      "source": [
        "#Let's try uniform distribution\n",
        "y=[]\n",
        "n=10000\n",
        "for i in range(n):\n",
        "  y.append(rnd.uniform()  )\n",
        "\n",
        "plt.hist(y)"
      ],
      "execution_count": null,
      "outputs": [
        {
          "output_type": "execute_result",
          "data": {
            "text/plain": [
              "(array([1021.,  976., 1000., 1006., 1032.,  975., 1030.,  983.,  983.,\n",
              "         994.]),\n",
              " array([3.90487559e-04, 1.00344283e-01, 2.00298078e-01, 3.00251873e-01,\n",
              "        4.00205668e-01, 5.00159463e-01, 6.00113258e-01, 7.00067053e-01,\n",
              "        8.00020848e-01, 8.99974643e-01, 9.99928438e-01]),\n",
              " <BarContainer object of 10 artists>)"
            ]
          },
          "metadata": {},
          "execution_count": 26
        },
        {
          "output_type": "display_data",
          "data": {
            "text/plain": [
              "<Figure size 640x480 with 1 Axes>"
            ],
            "image/png": "[encoded data removed]"
          },
          "metadata": {}
        }
      ]
    },
    {
      "cell_type": "code",
      "metadata": {
        "id": "T5rf4ueP0w25",
        "colab": {
          "base_uri": "https://localhost:8080/",
          "height": 517
        },
        "outputId": "f382bc28-2162-480e-8a62-018aed7ae18a"
      },
      "source": [
        "#Let's try expo(2) distribution\n",
        "z=[]\n",
        "n=1000\n",
        "for i in range(n):\n",
        "  z.append( rnd.exponential(2) )\n",
        "\n",
        "plt.hist(z)"
      ],
      "execution_count": null,
      "outputs": [
        {
          "output_type": "execute_result",
          "data": {
            "text/plain": [
              "(array([439., 258., 152.,  76.,  32.,  26.,   6.,   4.,   5.,   2.]),\n",
              " array([1.17895759e-02, 1.22538251e+00, 2.43897543e+00, 3.65256836e+00,\n",
              "        4.86616129e+00, 6.07975422e+00, 7.29334715e+00, 8.50694008e+00,\n",
              "        9.72053301e+00, 1.09341259e+01, 1.21477189e+01]),\n",
              " <BarContainer object of 10 artists>)"
            ]
          },
          "metadata": {},
          "execution_count": 27
        },
        {
          "output_type": "display_data",
          "data": {
            "text/plain": [
              "<Figure size 640x480 with 1 Axes>"
            ],
            "image/png": "[encoded data removed]"
          },
          "metadata": {}
        }
      ]
    },
    {
      "cell_type": "code",
      "metadata": {
        "id": "XKBzsEZ5PW2m",
        "colab": {
          "base_uri": "https://localhost:8080/",
          "height": 520
        },
        "outputId": "fc270808-cfb1-4bb1-a360-4e511d9065a0"
      },
      "source": [
        "# We can write a more compact code using \"size\" input inside the distribution function\n",
        "n=1000\n",
        "z=rnd.exponential(2,size=n)\n",
        "plt.hist(z)"
      ],
      "execution_count": null,
      "outputs": [
        {
          "output_type": "execute_result",
          "data": {
            "text/plain": [
              "(array([479., 256., 116.,  72.,  37.,  20.,  10.,   6.,   2.,   2.]),\n",
              " array([9.01258845e-04, 1.39087815e+00, 2.78085504e+00, 4.17083193e+00,\n",
              "        5.56080882e+00, 6.95078571e+00, 8.34076259e+00, 9.73073948e+00,\n",
              "        1.11207164e+01, 1.25106933e+01, 1.39006702e+01]),\n",
              " <BarContainer object of 10 artists>)"
            ]
          },
          "metadata": {},
          "execution_count": 28
        },
        {
          "output_type": "display_data",
          "data": {
            "text/plain": [
              "<Figure size 640x480 with 1 Axes>"
            ],
            "image/png": "[encoded data removed]"
          },
          "metadata": {}
        }
      ]
    },
    {
      "cell_type": "markdown",
      "metadata": {
        "id": "eaQ-jxQH2v4Z"
      },
      "source": [
        "Next: Let's try simple probability exercises, compute P{X>=3}, where X ~ expo(mean=2)"
      ]
    },
    {
      "cell_type": "code",
      "metadata": {
        "id": "owSVOBcK1crb",
        "colab": {
          "base_uri": "https://localhost:8080/"
        },
        "outputId": "9ae83a32-180b-4640-a1ee-f3bca1510a56"
      },
      "source": [
        "# Suppose X ~Expo(mean=2), what is P(X>=8)? Rerun with different values of n (sample size) and observe the output\n",
        "count=0\n",
        "n=1000\n",
        "\n",
        "for i in range(n):\n",
        "  if ( rnd.exponential(2) >= 8):\n",
        "    count = count+1\n",
        "\n",
        "print('P{X>=8} is ', count/n)"
      ],
      "execution_count": null,
      "outputs": [
        {
          "output_type": "stream",
          "name": "stdout",
          "text": [
            "P{X>=8} is  0.022\n"
          ]
        }
      ]
    },
    {
      "cell_type": "markdown",
      "metadata": {
        "id": "C58ouJl927rR"
      },
      "source": [
        "In the above code, you see that the Prob. value keeps changing when you run it multiple times. To keep it the same, we need the simulator to use the same set of random numbers each time.  We can do that using ```seed()``` function.\n",
        "\n",
        "In the above code, before the ```for-loop ```, insert ```rnd.seed(3)``` and rerun the code"
      ]
    },
    {
      "cell_type": "code",
      "source": [
        "count=0\n",
        "n=10000\n",
        "rnd.seed(3)\n",
        "for i in range(n):\n",
        "  if ( rnd.exponential(2) >= 8):\n",
        "    count = count+1\n",
        "\n",
        "print('P{X>=3} is ', count/n)"
      ],
      "metadata": {
        "colab": {
          "base_uri": "https://localhost:8080/"
        },
        "id": "LA_rrPgQxO6M",
        "outputId": "6602de0e-7108-4abe-d0a2-d3aab124a1b0"
      },
      "execution_count": null,
      "outputs": [
        {
          "output_type": "stream",
          "name": "stdout",
          "text": [
            "P{X>=3} is  0.0171\n"
          ]
        }
      ]
    },
    {
      "cell_type": "markdown",
      "metadata": {
        "id": "gcJUwt8E3sXB"
      },
      "source": [
        "**Example 1h: Central limit Theorem**\n",
        "If $X_1, X_2, ..X_n$ are i.i.d random samples each of size $n$ taken from a population. Then the sample mean $\\bar{X}$ is Normally distributed."
      ]
    },
    {
      "cell_type": "code",
      "metadata": {
        "id": "E7riElZe3XNT",
        "colab": {
          "base_uri": "https://localhost:8080/",
          "height": 691
        },
        "outputId": "40488738-ac6b-4e64-efde-32272ae0a8ce"
      },
      "source": [
        "# We can going to generate m sets of data, where each set has n data points.\n",
        "# From each set, we will take the sample mean, and plot the histogram of the sample means\n",
        "# let's generate samples from Expo(2)\n",
        "m=2000\n",
        "n=100\n",
        "sample_means=[]\n",
        "rnd.seed(3)\n",
        "for i in range(m):\n",
        "  x=[]\n",
        "  for j in range(n):\n",
        "    x.append( rnd.exponential(2))\n",
        "    sample_means.append(np.mean(x))\n",
        "\n",
        "\n",
        "\n",
        "plt.hist(sample_means,bins=30)"
      ],
      "execution_count": null,
      "outputs": [
        {
          "output_type": "execute_result",
          "data": {
            "text/plain": [
              "(array([1.2360e+03, 6.2630e+03, 8.4920e+04, 9.6893e+04, 8.3250e+03,\n",
              "        1.4460e+03, 4.4800e+02, 1.9000e+02, 9.7000e+01, 7.2000e+01,\n",
              "        3.1000e+01, 3.1000e+01, 1.5000e+01, 9.0000e+00, 4.0000e+00,\n",
              "        6.0000e+00, 3.0000e+00, 2.0000e+00, 4.0000e+00, 2.0000e+00,\n",
              "        0.0000e+00, 1.0000e+00, 0.0000e+00, 0.0000e+00, 0.0000e+00,\n",
              "        1.0000e+00, 0.0000e+00, 0.0000e+00, 0.0000e+00, 1.0000e+00]),\n",
              " array([1.32532531e-03, 6.54259097e-01, 1.30719287e+00, 1.96012664e+00,\n",
              "        2.61306041e+00, 3.26599418e+00, 3.91892796e+00, 4.57186173e+00,\n",
              "        5.22479550e+00, 5.87772927e+00, 6.53066304e+00, 7.18359681e+00,\n",
              "        7.83653059e+00, 8.48946436e+00, 9.14239813e+00, 9.79533190e+00,\n",
              "        1.04482657e+01, 1.11011994e+01, 1.17541332e+01, 1.24070670e+01,\n",
              "        1.30600008e+01, 1.37129345e+01, 1.43658683e+01, 1.50188021e+01,\n",
              "        1.56717358e+01, 1.63246696e+01, 1.69776034e+01, 1.76305372e+01,\n",
              "        1.82834709e+01, 1.89364047e+01, 1.95893385e+01]),\n",
              " <BarContainer object of 30 artists>)"
            ]
          },
          "metadata": {},
          "execution_count": 44
        },
        {
          "output_type": "display_data",
          "data": {
            "text/plain": [
              "<Figure size 640x480 with 1 Axes>"
            ],
            "image/png": "[encoded data removed]"
          },
          "metadata": {}
        }
      ]
    },
    {
      "cell_type": "markdown",
      "metadata": {
        "id": "u3USDWsK7f5V"
      },
      "source": [
        "***Note: The Above construct of ```inner for-loop``` for the samples, and the ```outer for-loop``` for the sample means is common in simulation***"
      ]
    },
    {
      "cell_type": "code",
      "metadata": {
        "id": "eIBANT3hNHd7",
        "colab": {
          "base_uri": "https://localhost:8080/",
          "height": 621
        },
        "outputId": "1e97011b-7f4c-44a6-b5df-9b507c0ac2f8"
      },
      "source": [
        "# However, we can write a compact code using list comprehension\n",
        "n=100\n",
        "rnd.seed(3)\n",
        "sample_means = [np.mean(rnd.exponential(2,n)) for i in range(m)]\n",
        "\n",
        "plt.hist(sample_means, bins=30)"
      ],
      "execution_count": null,
      "outputs": [
        {
          "output_type": "execute_result",
          "data": {
            "text/plain": [
              "(array([  4.,   3.,   1.,   4.,  17.,  18.,  23.,  55.,  74., 110., 103.,\n",
              "        136., 143., 173., 178., 180., 162., 139., 136.,  90.,  80.,  44.,\n",
              "         42.,  29.,  15.,  18.,   9.,   6.,   4.,   4.]),\n",
              " array([1.34605656, 1.39061184, 1.43516713, 1.47972242, 1.5242777 ,\n",
              "        1.56883299, 1.61338828, 1.65794356, 1.70249885, 1.74705414,\n",
              "        1.79160942, 1.83616471, 1.88072   , 1.92527528, 1.96983057,\n",
              "        2.01438586, 2.05894114, 2.10349643, 2.14805172, 2.192607  ,\n",
              "        2.23716229, 2.28171758, 2.32627286, 2.37082815, 2.41538344,\n",
              "        2.45993873, 2.50449401, 2.5490493 , 2.59360459, 2.63815987,\n",
              "        2.68271516]),\n",
              " <BarContainer object of 30 artists>)"
            ]
          },
          "metadata": {},
          "execution_count": 45
        },
        {
          "output_type": "display_data",
          "data": {
            "text/plain": [
              "<Figure size 640x480 with 1 Axes>"
            ],
            "image/png": "[encoded data removed]"
          },
          "metadata": {}
        }
      ]
    },
    {
      "cell_type": "markdown",
      "metadata": {
        "id": "6aCnd7u878a5"
      },
      "source": [
        "##Exercise to try\n",
        "**P1: Compute P{2X+Y} <= 10, where X ~ triangular(1,3,8) and Y ~ discrete uniform[1,6] (i.e., sampling Y is like rolling a die)**\n",
        "\n",
        "Compute probability with at least 4 decimal place accuracy"
      ]
    },
    {
      "cell_type": "code",
      "metadata": {
        "id": "tsQo2L3J6dnw",
        "colab": {
          "base_uri": "https://localhost:8080/"
        },
        "outputId": "9311b320-74b8-4f6d-8e2b-a0b85c4dc422"
      },
      "source": [
        "count=0\n",
        "n=1000\n",
        "rnd.seed(4)\n",
        "for i in range(n):\n",
        "  if (2*rnd.triangular(1,3,8)+rnd.randint(1,6)<=10):\n",
        "    count = count+1\n",
        "print('P{2X+Y<=10} is ', count/n)"
      ],
      "execution_count": null,
      "outputs": [
        {
          "output_type": "stream",
          "name": "stdout",
          "text": [
            "P{2X+Y<=10} is  0.394\n"
          ]
        }
      ]
    },
    {
      "cell_type": "markdown",
      "source": [
        "**P2:** The binomial distribution converges towards the Poisson distribution as the number of trials goes to infinity while the product np converges to a finite limit. Therefore, the Poisson distribution with parameter λ = np can be used as an approximation to B(n, p) of the binomial distribution if n is sufficiently large and p is sufficiently small.\n",
        "\n",
        "Generate samples from B(n, p) and construct a histogram.  Generate samples from Poisson(λ = np) and construct a histogram. Compare the two histrograms (see if you can get 2 histograms in a single figure).\n",
        "Try for different combinations of $n$ and $p$ to see if the theory is true."
      ],
      "metadata": {
        "id": "DNCVaktI9XjH"
      }
    },
    {
      "cell_type": "code",
      "source": [
        "n=10000\n",
        "p=0.5\n",
        "x=[]\n",
        "y=[]\n",
        "for i in range (n):\n",
        "  x.append(rnd.binomial(n,p))\n",
        "  y.append(rnd.poisson(n*p))\n",
        "plt.hist(x)\n",
        "plt.hist(y)"
      ],
      "metadata": {
        "id": "O-yL6RWa_Nrr",
        "colab": {
          "base_uri": "https://localhost:8080/",
          "height": 517
        },
        "outputId": "e0e318cc-354c-4058-d4af-b77a0733352f"
      },
      "execution_count": null,
      "outputs": [
        {
          "output_type": "execute_result",
          "data": {
            "text/plain": [
              "(array([  21.,  246.,  882., 2098., 2768., 2377., 1186.,  333.,   72.,\n",
              "          17.]),\n",
              " array([4761. , 4812.6, 4864.2, 4915.8, 4967.4, 5019. , 5070.6, 5122.2,\n",
              "        5173.8, 5225.4, 5277. ]),\n",
              " <BarContainer object of 10 artists>)"
            ]
          },
          "metadata": {},
          "execution_count": 56
        },
        {
          "output_type": "display_data",
          "data": {
            "text/plain": [
              "<Figure size 640x480 with 1 Axes>"
            ],
            "image/png": "[encoded data removed]"
          },
          "metadata": {}
        }
      ]
    }
  ]
}